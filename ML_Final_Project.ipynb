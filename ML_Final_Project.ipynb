{
 "cells": [
  {
   "cell_type": "markdown",
   "metadata": {},
   "source": [
    "# CS 363M | Final Project, Fall 2023\n",
    "\n",
    "By **Lochana Kalyanaraman**, **Mahta Ghotbiravandi**, **Nicholas Ensey**, and **Rasheek Huq**"
   ]
  },
  {
   "cell_type": "markdown",
   "metadata": {},
   "source": [
    ">#### **WARNING:**\n",
    "> Do not run this entire file at once without checking the warning at the top of the **Modeling** section. If you want to rerun something, rerun everything in the **Data Preparation** section **before** *Exploration*, then you can rerun anything else (after checking the other warning).\\\n",
    ">The models do not depend on each other, only on the initial data prep, so you don't have to worry about running the entire file to be able to run a specific model's code."
   ]
  },
  {
   "cell_type": "markdown",
   "metadata": {},
   "source": [
    ">#### **Note:**\n",
    ">I recommend using VSCode to view this file so that you can see the file's organization better. With VSCode, you can collapse different sections and subsections so that you can navigate through the file's sections more conveniently."
   ]
  },
  {
   "cell_type": "markdown",
   "metadata": {},
   "source": [
    "##### *Imports*"
   ]
  },
  {
   "cell_type": "code",
   "execution_count": 1,
   "metadata": {},
   "outputs": [],
   "source": [
    "import pandas as pd\n",
    "import numpy as np\n",
    "import sklearn as sk\n",
    "import sklearn.model_selection as ms\n",
    "from sklearn import tree\n",
    "import sklearn.metrics as metrics\n",
    "import matplotlib.pyplot as plt\n",
    "\n",
    "from sklearn.naive_bayes import GaussianNB\n",
    "\n",
    "from sklearn.preprocessing import StandardScaler\n",
    "from sklearn.decomposition import PCA\n",
    "from sklearn.neighbors import KNeighborsClassifier\n",
    "from sklearn.pipeline import Pipeline\n",
    "\n",
    "from sklearn.ensemble import RandomForestClassifier\n",
    "from sklearn.ensemble import AdaBoostClassifier\n",
    "\n",
    "from sklearn.ensemble import IsolationForest\n",
    "from sklearn.covariance import EllipticEnvelope\n",
    "\n",
    "from sklearn.utils._testing import ignore_warnings\n",
    "from sklearn.exceptions import ConvergenceWarning\n",
    "from sklearn.neural_network import MLPClassifier\n",
    "from sklearn.pipeline import Pipeline\n",
    "\n",
    "from sklearn import svm\n",
    "from sklearn.neural_network import MLPClassifier\n",
    "from sklearn.linear_model import SGDClassifier\n",
    "\n",
    "from sklearn.ensemble import HistGradientBoostingClassifier\n",
    "from sklearn.ensemble import ExtraTreesClassifier"
   ]
  },
  {
   "cell_type": "markdown",
   "metadata": {},
   "source": [
    "***\n",
    "# **Introduction**\n",
    "***"
   ]
  },
  {
   "cell_type": "markdown",
   "metadata": {},
   "source": [
    "This project is about engineering and refining a machine learning model that can help health care facilities better evaluate the risk of death in patients with COVID/flu-like symptoms.\n",
    "\n",
    "It is often difficult to predict whether a patient is at high risk of death when many patients with similar symptoms can have drastically different outcomes. With a model that can accurately predict this, health care professionals will have another metric to decide how to treat different patients, allowing health care facilities to save more lives and potentially save resources for lower risk patients. This model is not intended to be a singular solution to determine a patient's care, but rather a quick and efficient aid to help make a better decision, faster.\n",
    "\n",
    "The dataset we found was provided by the Mexican government, and contains over 1 million records of different people that were presented with flu-like symptoms. The dataset includes age, recorded symptoms, the level of care they received, their date of death (if they died), and several related pre-conditions that could potentially help predict the patient's future. There is a total of 21 features."
   ]
  },
  {
   "cell_type": "markdown",
   "metadata": {},
   "source": [
    "***\n",
    "# **Data Preparation**\n",
    "***"
   ]
  },
  {
   "cell_type": "markdown",
   "metadata": {},
   "source": [
    "[Link to the dataset's page](https://www.kaggle.com/datasets/meirnizri/covid19-dataset/data)"
   ]
  },
  {
   "cell_type": "markdown",
   "metadata": {},
   "source": [
    "## Initial Cleaning"
   ]
  },
  {
   "cell_type": "code",
   "execution_count": 2,
   "metadata": {},
   "outputs": [
    {
     "name": "stdout",
     "output_type": "stream",
     "text": [
      "Shape of original data: (1048575, 21)\n"
     ]
    },
    {
     "data": {
      "text/html": [
       "<div>\n",
       "<style scoped>\n",
       "    .dataframe tbody tr th:only-of-type {\n",
       "        vertical-align: middle;\n",
       "    }\n",
       "\n",
       "    .dataframe tbody tr th {\n",
       "        vertical-align: top;\n",
       "    }\n",
       "\n",
       "    .dataframe thead th {\n",
       "        text-align: right;\n",
       "    }\n",
       "</style>\n",
       "<table border=\"1\" class=\"dataframe\">\n",
       "  <thead>\n",
       "    <tr style=\"text-align: right;\">\n",
       "      <th></th>\n",
       "      <th>USMER</th>\n",
       "      <th>MEDICAL_UNIT</th>\n",
       "      <th>SEX</th>\n",
       "      <th>PATIENT_TYPE</th>\n",
       "      <th>DATE_DIED</th>\n",
       "      <th>INTUBED</th>\n",
       "      <th>PNEUMONIA</th>\n",
       "      <th>AGE</th>\n",
       "      <th>PREGNANT</th>\n",
       "      <th>DIABETES</th>\n",
       "      <th>...</th>\n",
       "      <th>ASTHMA</th>\n",
       "      <th>INMSUPR</th>\n",
       "      <th>HIPERTENSION</th>\n",
       "      <th>OTHER_DISEASE</th>\n",
       "      <th>CARDIOVASCULAR</th>\n",
       "      <th>OBESITY</th>\n",
       "      <th>RENAL_CHRONIC</th>\n",
       "      <th>TOBACCO</th>\n",
       "      <th>CLASIFFICATION_FINAL</th>\n",
       "      <th>ICU</th>\n",
       "    </tr>\n",
       "  </thead>\n",
       "  <tbody>\n",
       "    <tr>\n",
       "      <th>0</th>\n",
       "      <td>2</td>\n",
       "      <td>1</td>\n",
       "      <td>1</td>\n",
       "      <td>1</td>\n",
       "      <td>03/05/2020</td>\n",
       "      <td>97</td>\n",
       "      <td>1</td>\n",
       "      <td>65</td>\n",
       "      <td>2</td>\n",
       "      <td>2</td>\n",
       "      <td>...</td>\n",
       "      <td>2</td>\n",
       "      <td>2</td>\n",
       "      <td>1</td>\n",
       "      <td>2</td>\n",
       "      <td>2</td>\n",
       "      <td>2</td>\n",
       "      <td>2</td>\n",
       "      <td>2</td>\n",
       "      <td>3</td>\n",
       "      <td>97</td>\n",
       "    </tr>\n",
       "    <tr>\n",
       "      <th>1</th>\n",
       "      <td>2</td>\n",
       "      <td>1</td>\n",
       "      <td>2</td>\n",
       "      <td>1</td>\n",
       "      <td>03/06/2020</td>\n",
       "      <td>97</td>\n",
       "      <td>1</td>\n",
       "      <td>72</td>\n",
       "      <td>97</td>\n",
       "      <td>2</td>\n",
       "      <td>...</td>\n",
       "      <td>2</td>\n",
       "      <td>2</td>\n",
       "      <td>1</td>\n",
       "      <td>2</td>\n",
       "      <td>2</td>\n",
       "      <td>1</td>\n",
       "      <td>1</td>\n",
       "      <td>2</td>\n",
       "      <td>5</td>\n",
       "      <td>97</td>\n",
       "    </tr>\n",
       "    <tr>\n",
       "      <th>2</th>\n",
       "      <td>2</td>\n",
       "      <td>1</td>\n",
       "      <td>2</td>\n",
       "      <td>2</td>\n",
       "      <td>09/06/2020</td>\n",
       "      <td>1</td>\n",
       "      <td>2</td>\n",
       "      <td>55</td>\n",
       "      <td>97</td>\n",
       "      <td>1</td>\n",
       "      <td>...</td>\n",
       "      <td>2</td>\n",
       "      <td>2</td>\n",
       "      <td>2</td>\n",
       "      <td>2</td>\n",
       "      <td>2</td>\n",
       "      <td>2</td>\n",
       "      <td>2</td>\n",
       "      <td>2</td>\n",
       "      <td>3</td>\n",
       "      <td>2</td>\n",
       "    </tr>\n",
       "  </tbody>\n",
       "</table>\n",
       "<p>3 rows × 21 columns</p>\n",
       "</div>"
      ],
      "text/plain": [
       "   USMER  MEDICAL_UNIT  SEX  PATIENT_TYPE   DATE_DIED  INTUBED  PNEUMONIA  \\\n",
       "0      2             1    1             1  03/05/2020       97          1   \n",
       "1      2             1    2             1  03/06/2020       97          1   \n",
       "2      2             1    2             2  09/06/2020        1          2   \n",
       "\n",
       "   AGE  PREGNANT  DIABETES  ...  ASTHMA  INMSUPR  HIPERTENSION  OTHER_DISEASE  \\\n",
       "0   65         2         2  ...       2        2             1              2   \n",
       "1   72        97         2  ...       2        2             1              2   \n",
       "2   55        97         1  ...       2        2             2              2   \n",
       "\n",
       "   CARDIOVASCULAR  OBESITY  RENAL_CHRONIC  TOBACCO  CLASIFFICATION_FINAL  ICU  \n",
       "0               2        2              2        2                     3   97  \n",
       "1               2        1              1        2                     5   97  \n",
       "2               2        2              2        2                     3    2  \n",
       "\n",
       "[3 rows x 21 columns]"
      ]
     },
     "execution_count": 2,
     "metadata": {},
     "output_type": "execute_result"
    }
   ],
   "source": [
    "data_raw = pd.read_csv('Covid Data.csv', header='infer')\n",
    "print(\"Shape of original data:\", data_raw.shape)\n",
    "data_raw.head(3)"
   ]
  },
  {
   "cell_type": "markdown",
   "metadata": {},
   "source": [
    "In order to fix typos, improve readability, and make the dataset easier to work with, we decided to rename all of the features."
   ]
  },
  {
   "cell_type": "code",
   "execution_count": 3,
   "metadata": {},
   "outputs": [
    {
     "data": {
      "text/html": [
       "<div>\n",
       "<style scoped>\n",
       "    .dataframe tbody tr th:only-of-type {\n",
       "        vertical-align: middle;\n",
       "    }\n",
       "\n",
       "    .dataframe tbody tr th {\n",
       "        vertical-align: top;\n",
       "    }\n",
       "\n",
       "    .dataframe thead th {\n",
       "        text-align: right;\n",
       "    }\n",
       "</style>\n",
       "<table border=\"1\" class=\"dataframe\">\n",
       "  <thead>\n",
       "    <tr style=\"text-align: right;\">\n",
       "      <th></th>\n",
       "      <th>USMER</th>\n",
       "      <th>Med_Unit</th>\n",
       "      <th>Sex</th>\n",
       "      <th>Hospitalized</th>\n",
       "      <th>Died</th>\n",
       "      <th>Intubed</th>\n",
       "      <th>Pneumonia</th>\n",
       "      <th>Age</th>\n",
       "      <th>Pregnant</th>\n",
       "      <th>Diabetes</th>\n",
       "      <th>...</th>\n",
       "      <th>Asthma</th>\n",
       "      <th>Imnsupr</th>\n",
       "      <th>Hypertension</th>\n",
       "      <th>Other_Disease</th>\n",
       "      <th>Cardiovascular</th>\n",
       "      <th>Obesity</th>\n",
       "      <th>Renal_Chronic</th>\n",
       "      <th>Tobacco</th>\n",
       "      <th>COVID</th>\n",
       "      <th>ICU</th>\n",
       "    </tr>\n",
       "  </thead>\n",
       "  <tbody>\n",
       "    <tr>\n",
       "      <th>0</th>\n",
       "      <td>2</td>\n",
       "      <td>1</td>\n",
       "      <td>1</td>\n",
       "      <td>1</td>\n",
       "      <td>03/05/2020</td>\n",
       "      <td>97</td>\n",
       "      <td>1</td>\n",
       "      <td>65</td>\n",
       "      <td>2</td>\n",
       "      <td>2</td>\n",
       "      <td>...</td>\n",
       "      <td>2</td>\n",
       "      <td>2</td>\n",
       "      <td>1</td>\n",
       "      <td>2</td>\n",
       "      <td>2</td>\n",
       "      <td>2</td>\n",
       "      <td>2</td>\n",
       "      <td>2</td>\n",
       "      <td>3</td>\n",
       "      <td>97</td>\n",
       "    </tr>\n",
       "    <tr>\n",
       "      <th>1</th>\n",
       "      <td>2</td>\n",
       "      <td>1</td>\n",
       "      <td>2</td>\n",
       "      <td>1</td>\n",
       "      <td>03/06/2020</td>\n",
       "      <td>97</td>\n",
       "      <td>1</td>\n",
       "      <td>72</td>\n",
       "      <td>97</td>\n",
       "      <td>2</td>\n",
       "      <td>...</td>\n",
       "      <td>2</td>\n",
       "      <td>2</td>\n",
       "      <td>1</td>\n",
       "      <td>2</td>\n",
       "      <td>2</td>\n",
       "      <td>1</td>\n",
       "      <td>1</td>\n",
       "      <td>2</td>\n",
       "      <td>5</td>\n",
       "      <td>97</td>\n",
       "    </tr>\n",
       "    <tr>\n",
       "      <th>2</th>\n",
       "      <td>2</td>\n",
       "      <td>1</td>\n",
       "      <td>2</td>\n",
       "      <td>2</td>\n",
       "      <td>09/06/2020</td>\n",
       "      <td>1</td>\n",
       "      <td>2</td>\n",
       "      <td>55</td>\n",
       "      <td>97</td>\n",
       "      <td>1</td>\n",
       "      <td>...</td>\n",
       "      <td>2</td>\n",
       "      <td>2</td>\n",
       "      <td>2</td>\n",
       "      <td>2</td>\n",
       "      <td>2</td>\n",
       "      <td>2</td>\n",
       "      <td>2</td>\n",
       "      <td>2</td>\n",
       "      <td>3</td>\n",
       "      <td>2</td>\n",
       "    </tr>\n",
       "  </tbody>\n",
       "</table>\n",
       "<p>3 rows × 21 columns</p>\n",
       "</div>"
      ],
      "text/plain": [
       "   USMER  Med_Unit  Sex  Hospitalized        Died  Intubed  Pneumonia  Age  \\\n",
       "0      2         1    1             1  03/05/2020       97          1   65   \n",
       "1      2         1    2             1  03/06/2020       97          1   72   \n",
       "2      2         1    2             2  09/06/2020        1          2   55   \n",
       "\n",
       "   Pregnant  Diabetes  ...  Asthma  Imnsupr  Hypertension  Other_Disease  \\\n",
       "0         2         2  ...       2        2             1              2   \n",
       "1        97         2  ...       2        2             1              2   \n",
       "2        97         1  ...       2        2             2              2   \n",
       "\n",
       "   Cardiovascular  Obesity  Renal_Chronic  Tobacco  COVID  ICU  \n",
       "0               2        2              2        2      3   97  \n",
       "1               2        1              1        2      5   97  \n",
       "2               2        2              2        2      3    2  \n",
       "\n",
       "[3 rows x 21 columns]"
      ]
     },
     "execution_count": 3,
     "metadata": {},
     "output_type": "execute_result"
    }
   ],
   "source": [
    "names = {'MEDICAL_UNIT':'Med_Unit', 'SEX':'Sex', 'PATIENT_TYPE':'Hospitalized', 'DATE_DIED':'Died', \n",
    "         'INTUBED':'Intubed', 'PNEUMONIA':'Pneumonia', 'AGE':'Age', 'PREGNANT':'Pregnant', \n",
    "         'DIABETES':'Diabetes', 'ASTHMA':'Asthma', 'INMSUPR':'Imnsupr', 'HIPERTENSION':'Hypertension', \n",
    "         'OTHER_DISEASE':'Other_Disease', 'CARDIOVASCULAR':'Cardiovascular', 'OBESITY':'Obesity', \n",
    "         'RENAL_CHRONIC':'Renal_Chronic', 'TOBACCO':'Tobacco', 'CLASIFFICATION_FINAL':'COVID'}\n",
    "data_raw.rename(columns=names, inplace=True)\n",
    "data_raw.head(3)"
   ]
  },
  {
   "cell_type": "markdown",
   "metadata": {},
   "source": [
    "#### From here, we decided to change the way many of the values were presented in the original dataset.\n",
    "> *(all changes are indented like this)*\n",
    "- For boolean variables, the original marks them as '1' for True and '2' for False.\n",
    "> We changed all of the '2's to '0's, to make them more like regular booleans.\n",
    "- For 'Hospitalized', a True value indicated that the patient returned home, and False indicated that they were hospitalized.\n",
    "> Since we named the feature 'Hospitalized', we swapped the True/False values ('1's and '0's) to better fit the feature name.\n",
    "- Missing values for all features besides 'Age' and 'Died' were marked as 98 or 99.\n",
    "> We changed them to None, so pandas would detect them as missing.\n",
    "- For 'Pregnant', a value of '97' indicated that it was a male, who can't get pregnant anyways.\n",
    "> We changed these to simply be '0', or False, because the '97's did not give us any new information, and allowed for the 'Pregnant' feature to remain strictly binary.\n",
    "- For 'ICU' and 'Intubed', a 97 was tied to the 'Hospitalized' feature being False, and indicated that since the patient was not hospitalized, they did not have a chance to be intubed.\n",
    "> We changed these values to '0', as it was redundant data and allowed for 'ICU' and 'Intubed' to be binary.\n",
    "- For 'Died', the data originally has their date of death, and '9999-99-99' if they did not die.\n",
    "> Since there is no other indication of what time frame they were admitted/treated in, there was no use to knowing when they died. So we decided to simply make this into a boolean indicating whether or not they died at all.\n",
    "- Finally, the 'COVID' feature for each record had a few possible values. If it was between 4-7, then they did not have COVID or the test was inconclusive. If it was between 1-3, then they did have COVID, with each number being a different severity. There is no indication of what number indicated what severity.\n",
    "> We changed all of the False/inconclusive values (4-7) to '0', since there is no indication as to which is which, and essentially gives us the same amount of information."
   ]
  },
  {
   "cell_type": "code",
   "execution_count": 4,
   "metadata": {},
   "outputs": [],
   "source": [
    "data = data_raw.copy(deep=True)\n",
    "for col in data.columns:\n",
    "    if col not in ['Age', 'COVID', 'Died']:\n",
    "        data[col].replace(to_replace=[97, 2, 98, 99], value=[0, 0, None, None], inplace=True)\n",
    "data['Died'].replace(to_replace=['9999-99-99', '[123456780]*'], value=[0, 1], regex=True, inplace=True)\n",
    "data['COVID'].replace(to_replace=[4,5,6,7], value=[0,0,0,0], inplace=True)\n",
    "data = data.fillna(pd.NA).astype('Int32') # prevents boolean features with missing values becoming floats"
   ]
  },
  {
   "cell_type": "markdown",
   "metadata": {},
   "source": [
    "Looking at the different severity values for 'COVID' positive records, there isn't much of a difference in the data that would be statistically relevant."
   ]
  },
  {
   "cell_type": "code",
   "execution_count": 5,
   "metadata": {},
   "outputs": [
    {
     "name": "stdout",
     "output_type": "stream",
     "text": [
      "COVID  Died\n",
      "0      0       633890\n",
      "       1        22706\n",
      "1      0         7646\n",
      "       1          955\n",
      "2      1         1851\n",
      "3      0       330097\n",
      "       1        51430\n",
      "Name: Died, dtype: int64\n"
     ]
    }
   ],
   "source": [
    "print(data.groupby('COVID')['Died'].value_counts())"
   ]
  },
  {
   "cell_type": "markdown",
   "metadata": {},
   "source": [
    "Only a very small portion of COVID positive people were marked as 1 or 2. Furthermore, the correlation with whether they died or not was barely effected when we changed all of the positive values to '1'"
   ]
  },
  {
   "cell_type": "code",
   "execution_count": 6,
   "metadata": {},
   "outputs": [
    {
     "name": "stdout",
     "output_type": "stream",
     "text": [
      "COVID correlation with Died: 0.18813498215432248\n",
      "Boolean COVID correlation with Died: 0.1925637699393495\n"
     ]
    }
   ],
   "source": [
    "print(\"COVID correlation with Died:\", data.corr()['Died']['COVID'])\n",
    "data['COVID'].replace(to_replace=[1,2,3], value=[1,1,1], inplace=True)\n",
    "print(\"Boolean COVID correlation with Died:\", data.corr()['Died']['COVID'])"
   ]
  },
  {
   "cell_type": "markdown",
   "metadata": {},
   "source": [
    "Thus,\n",
    "> 'COVID' was turned into a binary feature, only indicating whether the person tested positive or not.\n",
    "\n",
    "Other people working with this dataset (in the Discussion tab of the dataset page) also made the same change without much adverse effect, so we decided to stick with this."
   ]
  },
  {
   "cell_type": "markdown",
   "metadata": {},
   "source": [
    "## Missing Values"
   ]
  },
  {
   "cell_type": "markdown",
   "metadata": {},
   "source": [
    "To deal with missing values, we decided to look at how many records there were with such values."
   ]
  },
  {
   "cell_type": "code",
   "execution_count": 7,
   "metadata": {},
   "outputs": [
    {
     "name": "stdout",
     "output_type": "stream",
     "text": [
      "Num records: 1048575\n",
      "Num records dropped: 28909\n"
     ]
    }
   ],
   "source": [
    "print(\"Num records:\", data.shape[0])\n",
    "data2 = data.dropna()\n",
    "print(\"Num records dropped:\", (data.shape[0]-data2.shape[0]))"
   ]
  },
  {
   "cell_type": "code",
   "execution_count": 8,
   "metadata": {},
   "outputs": [
    {
     "name": "stdout",
     "output_type": "stream",
     "text": [
      "Died\n",
      "0    971633\n",
      "1     76942\n",
      "dtype: int64\n",
      "Alive records dropped: 25277\n",
      "Dead records dropped: 3632\n"
     ]
    }
   ],
   "source": [
    "print(data.groupby('Died').size())\n",
    "print(\"Alive records dropped:\", (data.groupby('Died').size()[0]-data2.groupby('Died').size()[0]))\n",
    "print(\"Dead records dropped:\", (data.groupby('Died').size()[1]-data2.groupby('Died').size()[1]))"
   ]
  },
  {
   "cell_type": "markdown",
   "metadata": {},
   "source": [
    "Seeing that the total amount of such records was low, and did not exacerbate the class imbalance very much, we decided to just drop all records with missing values."
   ]
  },
  {
   "cell_type": "code",
   "execution_count": 9,
   "metadata": {},
   "outputs": [],
   "source": [
    "data = data2"
   ]
  },
  {
   "cell_type": "markdown",
   "metadata": {},
   "source": [
    "## Class Imbalance"
   ]
  },
  {
   "cell_type": "markdown",
   "metadata": {},
   "source": [
    "Speaking of the class imbalance, we noticed there was a very large imbalance in our dataset, with the positive case being the minority. About 7% of records in the dataset were positive."
   ]
  },
  {
   "cell_type": "code",
   "execution_count": 10,
   "metadata": {},
   "outputs": [
    {
     "name": "stdout",
     "output_type": "stream",
     "text": [
      "0.0718960914652445\n"
     ]
    }
   ],
   "source": [
    "print((data.groupby('Died').size()[1]/data.shape[0]))"
   ]
  },
  {
   "cell_type": "markdown",
   "metadata": {},
   "source": [
    "This resulted in all of our initial models having a very low positive precision, recall, and accuracy. To mitigate this, we found a parameter in many of scikit-learn's classes called 'class_weight', which allowed us to weigh the impact of the positive class much more than the negative class. As you'll see in the models below, this greatly benefitted the overall performance of our models.\n",
    "\n",
    "However, some model types did not have this parameter built in, and generally had worse performance because of it. So we tried undersampling the dataset's negative records to consolidate their information, but we generally could not get it to work properly or run in a reasonable amount of time, so we ended up not being able to use it (this was discussed in office hours).\n",
    "\n",
    "The algorithm we attempted to use came from the imblearn package (requires installing via conda or pip), called [Cluster Centroids](https://imbalanced-learn.org/stable/references/generated/imblearn.under_sampling.ClusterCentroids.html). It essentially runs a KMeans clustering algorithm on the dataset's majority class and replaces the records in each cluster with their corresponding centroid. This would greatly reduce the total amount of negative records while retaining a lot of their information.\n",
    "\n",
    "Since we couldn't get this to work, the models that did not have the 'class_weight' parameter available generally performed worse."
   ]
  },
  {
   "cell_type": "markdown",
   "metadata": {},
   "source": [
    "## More Feature Selection"
   ]
  },
  {
   "cell_type": "code",
   "execution_count": 11,
   "metadata": {},
   "outputs": [],
   "source": [
    "features = data.drop('Died', axis=1)\n",
    "labels = data['Died'].values.ravel()\n",
    "f1 = features"
   ]
  },
  {
   "cell_type": "markdown",
   "metadata": {},
   "source": [
    "- We decided to drop the ICU feature due to a high correlation with the Hospitalized and Intubed features. Also, logical assumption that if they are in the ICU, we can assume they were hospitalized in the first place. Overall, removed to reduce redundancy. (f2)"
   ]
  },
  {
   "cell_type": "code",
   "execution_count": 12,
   "metadata": {},
   "outputs": [
    {
     "data": {
      "text/plain": [
       "USMER             0.034885\n",
       "Med_Unit          0.016633\n",
       "Sex              -0.034399\n",
       "Hospitalized     -0.267860\n",
       "Died              0.204008\n",
       "Intubed           0.374589\n",
       "Pneumonia         0.259865\n",
       "Age               0.074548\n",
       "Pregnant          0.003307\n",
       "Diabetes          0.073355\n",
       "COPD              0.025905\n",
       "Asthma           -0.005095\n",
       "Imnsupr           0.028438\n",
       "Hypertension      0.062371\n",
       "Other_Disease     0.025322\n",
       "Cardiovascular    0.036282\n",
       "Obesity           0.033964\n",
       "Renal_Chronic     0.030348\n",
       "Tobacco           0.001451\n",
       "COVID             0.064147\n",
       "ICU               1.000000\n",
       "Name: ICU, dtype: float64"
      ]
     },
     "execution_count": 12,
     "metadata": {},
     "output_type": "execute_result"
    }
   ],
   "source": [
    "data.corr()['ICU']"
   ]
  },
  {
   "cell_type": "markdown",
   "metadata": {},
   "source": [
    "- When evaluating the data and reading the dataset page, there was no indication of what each value meant, so we decided to drop Med_Unit as a feature to make the dataset more concise. (f3)"
   ]
  },
  {
   "cell_type": "markdown",
   "metadata": {},
   "source": [
    "The next set of features were dropped due to low correlation with death."
   ]
  },
  {
   "cell_type": "code",
   "execution_count": 13,
   "metadata": {},
   "outputs": [
    {
     "data": {
      "text/plain": [
       "USMER             0.117652\n",
       "Med_Unit         -0.154907\n",
       "Sex              -0.079927\n",
       "Hospitalized     -0.517813\n",
       "Died              1.000000\n",
       "Intubed           0.504964\n",
       "Pneumonia         0.471531\n",
       "Age               0.320703\n",
       "Pregnant         -0.021001\n",
       "Diabetes          0.215750\n",
       "COPD              0.089570\n",
       "Asthma           -0.017690\n",
       "Imnsupr           0.049774\n",
       "Hypertension      0.203158\n",
       "Other_Disease     0.057231\n",
       "Cardiovascular    0.076183\n",
       "Obesity           0.055409\n",
       "Renal_Chronic     0.119538\n",
       "Tobacco           0.005625\n",
       "COVID             0.190817\n",
       "ICU               0.204008\n",
       "Name: Died, dtype: float64"
      ]
     },
     "execution_count": 13,
     "metadata": {},
     "output_type": "execute_result"
    }
   ],
   "source": [
    "data.corr()['Died']"
   ]
  },
  {
   "cell_type": "markdown",
   "metadata": {},
   "source": [
    "- Dropped the Sex, Pregnant, Asthma, and Tobacco due to a less than a 2% correlation (f4)\n",
    "- Dropped Obesity, Cardiovascular, Other_Disease, Imnsupr, COPD due to a less than 10% correlation (f5)\n",
    "- Dropped Renal_Chronic and USMER due to it having the smallest correlation out of the remaining features (f6)"
   ]
  },
  {
   "cell_type": "code",
   "execution_count": 14,
   "metadata": {},
   "outputs": [],
   "source": [
    "f2 = features.drop('ICU', axis=1)\n",
    "f3 = f2.drop('Med_Unit', axis=1)\n",
    "f4 = f3.drop(['Sex', 'Pregnant', 'Asthma', 'Tobacco'], axis=1) # <2% correlation\n",
    "f5 = f4.drop(['Obesity', 'Cardiovascular', 'Other_Disease', 'Imnsupr', 'COPD'], axis=1) # <10% correlation\n",
    "f6 = f5.drop(['Renal_Chronic', 'USMER'], axis=1) # lowest correlation"
   ]
  },
  {
   "cell_type": "markdown",
   "metadata": {},
   "source": [
    "These are the different feature sets we used throughout our models, but not every model had their best results with the same set. \n",
    "\n",
    "Below are some additional feature combinations tested in some models."
   ]
  },
  {
   "cell_type": "code",
   "execution_count": 15,
   "metadata": {},
   "outputs": [],
   "source": [
    "f7 = features.drop('Med_Unit', axis=1)\n",
    "f8 = features.drop('Hospitalized', axis=1)\n",
    "f9 = f7.drop('Hospitalized', axis=1)"
   ]
  },
  {
   "cell_type": "markdown",
   "metadata": {},
   "source": [
    "## Exploration"
   ]
  },
  {
   "cell_type": "markdown",
   "metadata": {},
   "source": [
    "Based on the following histogram, the group that experienced the highest death rate relative to the rest of the distribution is those in the 50-70 age bracket. This is not to say those older than 70 were less likely to pass away. In proportion with the age distribution, there are simply fewer records in the 80+ age bracket."
   ]
  },
  {
   "cell_type": "code",
   "execution_count": 26,
   "metadata": {},
   "outputs": [
    {
     "data": {
      "text/plain": [
       "Text(0.5, 1.0, 'Death by Age Distribution')"
      ]
     },
     "execution_count": 26,
     "metadata": {},
     "output_type": "execute_result"
    },
    {
     "data": {
      "image/png": "[encoded data removed]",
      "text/plain": [
       "<Figure size 640x480 with 1 Axes>"
      ]
     },
     "metadata": {},
     "output_type": "display_data"
    }
   ],
   "source": [
    "data.groupby('Died')['Age'].plot.hist(bins=24, alpha=0.5)\n",
    "plt.legend(labels=[\"Not Dead\", \"Dead\"])\n",
    "plt.xlabel('Age')\n",
    "plt.title(\"Death by Age Distribution\")"
   ]
  },
  {
   "cell_type": "markdown",
   "metadata": {},
   "source": [
    "The following graph shows covid and death rate over age. We can see that the mean age for those who died without Covid is 60. The max is 110. The mean age for Covid and died is 65. The max is 105."
   ]
  },
  {
   "cell_type": "code",
   "execution_count": 24,
   "metadata": {},
   "outputs": [
    {
     "data": {
      "text/plain": [
       "<matplotlib.legend.Legend at 0x2621091a690>"
      ]
     },
     "execution_count": 24,
     "metadata": {},
     "output_type": "execute_result"
    },
    {
     "data": {
      "image/png": "[encoded data removed]",
      "text/plain": [
       "<Figure size 640x480 with 1 Axes>"
      ]
     },
     "metadata": {},
     "output_type": "display_data"
    }
   ],
   "source": [
    "data.groupby(['COVID', 'Died']).agg({'Age': ['mean', 'max']}).plot()\n",
    "plt.legend(['Mean Age', 'Max Age'])"
   ]
  },
  {
   "cell_type": "markdown",
   "metadata": {},
   "source": [
    "Looking further into the age gap, we didn't end up learning much that affected our modeling, but there were some interesting findings."
   ]
  },
  {
   "cell_type": "code",
   "execution_count": 40,
   "metadata": {},
   "outputs": [
    {
     "data": {
      "text/html": [
       "<div>\n",
       "<style scoped>\n",
       "    .dataframe tbody tr th:only-of-type {\n",
       "        vertical-align: middle;\n",
       "    }\n",
       "\n",
       "    .dataframe tbody tr th {\n",
       "        vertical-align: top;\n",
       "    }\n",
       "\n",
       "    .dataframe thead th {\n",
       "        text-align: right;\n",
       "    }\n",
       "</style>\n",
       "<table border=\"1\" class=\"dataframe\">\n",
       "  <thead>\n",
       "    <tr style=\"text-align: right;\">\n",
       "      <th></th>\n",
       "      <th>count</th>\n",
       "      <th>mean</th>\n",
       "      <th>std</th>\n",
       "      <th>min</th>\n",
       "      <th>25%</th>\n",
       "      <th>50%</th>\n",
       "      <th>75%</th>\n",
       "      <th>max</th>\n",
       "    </tr>\n",
       "    <tr>\n",
       "      <th>Died</th>\n",
       "      <th></th>\n",
       "      <th></th>\n",
       "      <th></th>\n",
       "      <th></th>\n",
       "      <th></th>\n",
       "      <th></th>\n",
       "      <th></th>\n",
       "      <th></th>\n",
       "    </tr>\n",
       "  </thead>\n",
       "  <tbody>\n",
       "    <tr>\n",
       "      <th>0</th>\n",
       "      <td>946356.0</td>\n",
       "      <td>40.376969</td>\n",
       "      <td>15.895617</td>\n",
       "      <td>0.0</td>\n",
       "      <td>29.0</td>\n",
       "      <td>39.0</td>\n",
       "      <td>50.0</td>\n",
       "      <td>121.0</td>\n",
       "    </tr>\n",
       "    <tr>\n",
       "      <th>1</th>\n",
       "      <td>73310.0</td>\n",
       "      <td>61.153076</td>\n",
       "      <td>15.257528</td>\n",
       "      <td>0.0</td>\n",
       "      <td>52.0</td>\n",
       "      <td>62.0</td>\n",
       "      <td>72.0</td>\n",
       "      <td>109.0</td>\n",
       "    </tr>\n",
       "  </tbody>\n",
       "</table>\n",
       "</div>"
      ],
      "text/plain": [
       "         count       mean        std  min   25%   50%   75%    max\n",
       "Died                                                              \n",
       "0     946356.0  40.376969  15.895617  0.0  29.0  39.0  50.0  121.0\n",
       "1      73310.0  61.153076  15.257528  0.0  52.0  62.0  72.0  109.0"
      ]
     },
     "execution_count": 40,
     "metadata": {},
     "output_type": "execute_result"
    }
   ],
   "source": [
    "data.groupby('Died')['Age'].describe()"
   ]
  },
  {
   "cell_type": "code",
   "execution_count": 41,
   "metadata": {},
   "outputs": [
    {
     "data": {
      "text/plain": [
       "count    1019666.0\n",
       "mean      41.87069\n",
       "std      16.734508\n",
       "min            0.0\n",
       "25%           30.0\n",
       "50%           40.0\n",
       "75%           53.0\n",
       "max          121.0\n",
       "Name: Age, dtype: Float64"
      ]
     },
     "execution_count": 41,
     "metadata": {},
     "output_type": "execute_result"
    }
   ],
   "source": [
    "data['Age'].describe()"
   ]
  },
  {
   "cell_type": "markdown",
   "metadata": {},
   "source": [
    "Here, we decided to separate each quarter of the dataset by age."
   ]
  },
  {
   "cell_type": "code",
   "execution_count": 42,
   "metadata": {},
   "outputs": [],
   "source": [
    "top = data[data['Age'] >= 40]\n",
    "bottom = data[data['Age'] < 40]\n",
    "firstq = bottom[bottom['Age'] < 30]\n",
    "secondq = bottom[bottom['Age'] >= 30]\n",
    "thirdq = top[top['Age'] < 53]\n",
    "fourthq = top[top['Age'] >= 53]"
   ]
  },
  {
   "cell_type": "code",
   "execution_count": 68,
   "metadata": {},
   "outputs": [
    {
     "data": {
      "image/png": "[encoded data removed]",
      "text/plain": [
       "<Figure size 640x480 with 1 Axes>"
      ]
     },
     "metadata": {},
     "output_type": "display_data"
    }
   ],
   "source": [
    "plt.bar(x=list(range(1,22)), height=(firstq.corr()['Died']))\n",
    "ticks = plt.xticks(ticks=list(range(1,22)), labels=data.columns, rotation=90)\n",
    "plt.xlabel('Features')\n",
    "plt.ylabel('Correlation with Death')\n",
    "title = plt.title('Feature Correlation with Death for First Age Quartile')"
   ]
  },
  {
   "cell_type": "code",
   "execution_count": 69,
   "metadata": {},
   "outputs": [
    {
     "data": {
      "image/png": "[encoded data removed]",
      "text/plain": [
       "<Figure size 640x480 with 1 Axes>"
      ]
     },
     "metadata": {},
     "output_type": "display_data"
    }
   ],
   "source": [
    "plt.bar(x=list(range(1,22)), height=(secondq.corr()['Died']))\n",
    "ticks = plt.xticks(ticks=list(range(1,22)), labels=data.columns, rotation=90)\n",
    "plt.xlabel('Features')\n",
    "plt.ylabel('Correlation with Death')\n",
    "title = plt.title('Feature Correlation with Death for Second Age Quartile')"
   ]
  },
  {
   "cell_type": "code",
   "execution_count": 70,
   "metadata": {},
   "outputs": [
    {
     "data": {
      "image/png": "[encoded data removed]",
      "text/plain": [
       "<Figure size 640x480 with 1 Axes>"
      ]
     },
     "metadata": {},
     "output_type": "display_data"
    }
   ],
   "source": [
    "plt.bar(x=list(range(1,22)), height=(thirdq.corr()['Died']))\n",
    "ticks = plt.xticks(ticks=list(range(1,22)), labels=data.columns, rotation=90)\n",
    "plt.xlabel('Features')\n",
    "plt.ylabel('Correlation with Death')\n",
    "title = plt.title('Feature Correlation with Death for Third Age Quartile')"
   ]
  },
  {
   "cell_type": "code",
   "execution_count": 71,
   "metadata": {},
   "outputs": [
    {
     "data": {
      "image/png": "[encoded data removed]",
      "text/plain": [
       "<Figure size 640x480 with 1 Axes>"
      ]
     },
     "metadata": {},
     "output_type": "display_data"
    }
   ],
   "source": [
    "plt.bar(x=list(range(1,22)), height=(fourthq.corr()['Died']))\n",
    "ticks = plt.xticks(ticks=list(range(1,22)), labels=data.columns, rotation=90)\n",
    "plt.xlabel('Features')\n",
    "plt.ylabel('Correlation with Death')\n",
    "title = plt.title('Feature Correlation with Death for Fourth Age Quartile')"
   ]
  },
  {
   "cell_type": "markdown",
   "metadata": {},
   "source": [
    "In the last quarter, it looks like the correlation between death and 'Hospitalized' and 'COVID' significantly increased. Also, each quartile's correlation between 'Age' and death increased, indicating that the increased risk of death that comes from age is not linear, but quadratic/exponential."
   ]
  },
  {
   "cell_type": "markdown",
   "metadata": {},
   "source": [
    "Based on the plot below, the distribution is approximately the same amongst male and female records. It is evident that male records were more likely to die in comparison their female counterparts, though by a relatively small margin. "
   ]
  },
  {
   "cell_type": "code",
   "execution_count": 21,
   "metadata": {},
   "outputs": [
    {
     "data": {
      "text/plain": [
       "([<matplotlib.axis.XTick at 0x26221faa8d0>,\n",
       "  <matplotlib.axis.XTick at 0x2620e65a310>],\n",
       " [Text(0, 0, 'Male'), Text(1, 0, 'Female')])"
      ]
     },
     "execution_count": 21,
     "metadata": {},
     "output_type": "execute_result"
    },
    {
     "data": {
      "image/png": "[encoded data removed]",
      "text/plain": [
       "<Figure size 640x480 with 1 Axes>"
      ]
     },
     "metadata": {},
     "output_type": "display_data"
    }
   ],
   "source": [
    "data.groupby('Died')['Sex'].plot.hist(alpha=0.5)\n",
    "plt.legend(labels=[\"Not Dead\", \"Dead\"])\n",
    "plt.xlabel('Sex')\n",
    "plt.title(\"Death by Sex Distribution\")\n",
    "plt.xticks([0, 1], ['Male', 'Female'])"
   ]
  },
  {
   "cell_type": "markdown",
   "metadata": {},
   "source": [
    "This plot how the number of people with pneumonia and whether they died. The patients were more likely to not have pneumonia and not die."
   ]
  },
  {
   "cell_type": "code",
   "execution_count": 26,
   "metadata": {},
   "outputs": [
    {
     "data": {
      "text/plain": [
       "([<matplotlib.axis.XTick at 0x26223507250>,\n",
       "  <matplotlib.axis.XTick at 0x26223564dd0>],\n",
       " [Text(0, 0, 'Negative'), Text(1, 0, 'Positive')])"
      ]
     },
     "execution_count": 26,
     "metadata": {},
     "output_type": "execute_result"
    },
    {
     "data": {
      "image/png": "[encoded data removed]",
      "text/plain": [
       "<Figure size 640x480 with 1 Axes>"
      ]
     },
     "metadata": {},
     "output_type": "display_data"
    }
   ],
   "source": [
    "pd.crosstab(data['Pneumonia'],data['Died']).plot(kind=\"bar\",stacked=True)\n",
    "plt.legend([\"Didn't Die\", \"Died\"])\n",
    "plt.xticks([0, 1], ['Negative', 'Positive'])"
   ]
  },
  {
   "cell_type": "markdown",
   "metadata": {},
   "source": [
    "This plot how the number of people who were intubed and whether they died. The patients were more likely to not be intubed and not die."
   ]
  },
  {
   "cell_type": "code",
   "execution_count": 39,
   "metadata": {},
   "outputs": [
    {
     "data": {
      "text/plain": [
       "<matplotlib.legend.Legend at 0x227bf73b490>"
      ]
     },
     "execution_count": 39,
     "metadata": {},
     "output_type": "execute_result"
    },
    {
     "data": {
      "image/png": "[encoded data removed]",
      "text/plain": [
       "<Figure size 640x480 with 1 Axes>"
      ]
     },
     "metadata": {},
     "output_type": "display_data"
    }
   ],
   "source": [
    "pd.crosstab(data['Intubed'],data['Died']).plot(kind=\"bar\",stacked=True)\n",
    "plt.xticks([0, 1], ['Was Not', 'Was'])\n",
    "plt.legend([\"Didn't Die\", \"Died\"])"
   ]
  },
  {
   "cell_type": "markdown",
   "metadata": {},
   "source": [
    "## Anomaly Detection"
   ]
  },
  {
   "cell_type": "markdown",
   "metadata": {},
   "source": [
    "We aimed to see outliers in the data. To do this, we used a contamination of 0.01 and 0.05. There were no improvements when we removed outliers. Therefore, we preliminarily did not use this dataset further."
   ]
  },
  {
   "cell_type": "markdown",
   "metadata": {},
   "source": [
    ">Note: The following code is based on a model that we developed later in this notebook, and was used to test the effectiveness of our anomaly detection. The model itself is explored in the **Modeling** section."
   ]
  },
  {
   "cell_type": "code",
   "execution_count": 50,
   "metadata": {},
   "outputs": [
    {
     "name": "stdout",
     "output_type": "stream",
     "text": [
      " 1    1009470\n",
      "-1      10196\n",
      "dtype: int64\n",
      "(1009470, 21)\n",
      "Died\n",
      "0    939520\n",
      "1     69950\n",
      "dtype: int64\n"
     ]
    }
   ],
   "source": [
    "data_outliers = data.to_numpy()\n",
    "\n",
    "x = EllipticEnvelope(contamination = 0.01).fit(data_outliers)\n",
    "y_pred = pd.DataFrame(x.predict(data_outliers))\n",
    "print(y_pred.value_counts())\n",
    "preds = pd.DataFrame(y_pred).replace(to_replace=[-1,1], value=[False, True]).values.ravel()\n",
    "d = data.loc[preds,:]\n",
    "print(d.shape)\n",
    "print(d.groupby('Died').size())"
   ]
  },
  {
   "cell_type": "code",
   "execution_count": 51,
   "metadata": {},
   "outputs": [
    {
     "name": "stdout",
     "output_type": "stream",
     "text": [
      "Accuracy: 91.50078754197747\n",
      "[[865992  73528]\n",
      " [ 12751  57199]]\n",
      "              precision    recall  f1-score   support\n",
      "\n",
      "         0.0       0.99      0.92      0.95    939520\n",
      "         1.0       0.44      0.82      0.57     69950\n",
      "\n",
      "    accuracy                           0.91   1009470\n",
      "   macro avg       0.71      0.87      0.76   1009470\n",
      "weighted avg       0.95      0.91      0.93   1009470\n",
      "\n"
     ]
    }
   ],
   "source": [
    "features_outliers = d.drop('Died', axis=1)\n",
    "labels_outliers = d['Died'].values.ravel()\n",
    "out = features_outliers.drop(['ICU', 'Med_Unit', 'Sex', 'Pregnant', 'Asthma', 'Tobacco', 'Obesity', 'Cardiovascular', 'Other_Disease', 'Imnsupr', 'COPD', 'Renal_Chronic'], axis=1)\n",
    "gnb = GaussianNB()\n",
    "scores = ms.cross_val_score(gnb, out, labels_outliers, cv=15, error_score ='raise')\n",
    "print(\"Accuracy:\", scores.mean()*100)\n",
    "preds = ms.cross_val_predict(gnb, out, labels_outliers, cv=10)\n",
    "print(metrics.confusion_matrix(labels_outliers, preds))\n",
    "print(metrics.classification_report(labels_outliers, preds))"
   ]
  },
  {
   "cell_type": "markdown",
   "metadata": {},
   "source": [
    "The following code runs Elliptic Envelope with 0.05 as contamination. After dropping the outliers it detected, the accuracy of the same model improved but recall and precision for positive class decreased. Hence, it is not optimal. (slightly varied results with different seeds, but generally no better results)"
   ]
  },
  {
   "cell_type": "code",
   "execution_count": 54,
   "metadata": {},
   "outputs": [
    {
     "name": "stdout",
     "output_type": "stream",
     "text": [
      " 1    968682\n",
      "-1     50984\n",
      "dtype: int64\n",
      "(968682, 21)\n",
      "Died\n",
      "0    909681\n",
      "1     59001\n",
      "dtype: int64\n"
     ]
    }
   ],
   "source": [
    "data_outliers = data.to_numpy()\n",
    "\n",
    "x = EllipticEnvelope(contamination = 0.05).fit(data_outliers)\n",
    "y_pred = pd.DataFrame(x.predict(data_outliers))\n",
    "print(y_pred.value_counts())\n",
    "preds = pd.DataFrame(y_pred).replace(to_replace=[-1,1], value=[False, True]).values.ravel()\n",
    "d = data.loc[preds,:]\n",
    "print(d.shape)\n",
    "print(d.groupby('Died').size())"
   ]
  },
  {
   "cell_type": "code",
   "execution_count": 55,
   "metadata": {},
   "outputs": [
    {
     "name": "stdout",
     "output_type": "stream",
     "text": [
      "Accuracy: 92.0038928008888\n",
      "[[843059  66622]\n",
      " [ 11175  47826]]\n",
      "              precision    recall  f1-score   support\n",
      "\n",
      "         0.0       0.99      0.93      0.96    909681\n",
      "         1.0       0.42      0.81      0.55     59001\n",
      "\n",
      "    accuracy                           0.92    968682\n",
      "   macro avg       0.70      0.87      0.75    968682\n",
      "weighted avg       0.95      0.92      0.93    968682\n",
      "\n"
     ]
    }
   ],
   "source": [
    "features_outliers = d.drop('Died', axis=1)\n",
    "labels_outliers = d['Died'].values.ravel()\n",
    "out = features_outliers.drop(['ICU', 'Med_Unit', 'Sex', 'Pregnant', 'Asthma', 'Tobacco', 'Obesity', 'Cardiovascular', 'Other_Disease', 'Imnsupr', 'COPD', 'Renal_Chronic'], axis=1)\n",
    "scores = ms.cross_val_score(gnb, out, labels_outliers, cv=15, error_score ='raise')\n",
    "print(\"Accuracy:\", scores.mean()*100)\n",
    "gnb = GaussianNB()\n",
    "preds = ms.cross_val_predict(gnb, out, labels_outliers, cv=10)\n",
    "print(metrics.confusion_matrix(labels_outliers, preds))\n",
    "print(metrics.classification_report(labels_outliers, preds))"
   ]
  },
  {
   "cell_type": "markdown",
   "metadata": {},
   "source": [
    "We also attempted this outlier test with our final model near the end of this file, and obtained similar results, so we ultimately did not use any form of anomaly detection."
   ]
  },
  {
   "cell_type": "markdown",
   "metadata": {},
   "source": [
    "### Why didn't this help?"
   ]
  },
  {
   "cell_type": "markdown",
   "metadata": {},
   "source": [
    "We decided to explore why this wasn't helping our model, and found some interesting results after a little bit of digging."
   ]
  },
  {
   "cell_type": "code",
   "execution_count": 19,
   "metadata": {},
   "outputs": [
    {
     "name": "stdout",
     "output_type": "stream",
     "text": [
      "Totals (1: inlier, -1: outlier):\n",
      " 1    968687\n",
      "-1     50979\n",
      "dtype: int64\n"
     ]
    }
   ],
   "source": [
    "data_outliers = data.to_numpy()\n",
    "x = EllipticEnvelope(contamination = 0.05).fit(data_outliers)\n",
    "y_pred = pd.DataFrame(x.predict(data_outliers))\n",
    "print(\"Totals (1: inlier, -1: outlier):\")\n",
    "print(y_pred.value_counts())\n",
    "preds = pd.DataFrame(y_pred).replace(to_replace=[-1,1], value=[False, True]).values.ravel()\n",
    "inliers = data.loc[preds,:]"
   ]
  },
  {
   "cell_type": "code",
   "execution_count": 20,
   "metadata": {},
   "outputs": [
    {
     "name": "stdout",
     "output_type": "stream",
     "text": [
      "Negative records lost:\n",
      "30743\n",
      "Positive records lost:\n",
      "20236\n"
     ]
    }
   ],
   "source": [
    "data_g = data.groupby('Died').size()\n",
    "inliers_g = inliers.groupby('Died').size()\n",
    "print(\"Negative records lost:\")\n",
    "print(data_g[0]-inliers_g[0])\n",
    "print(\"Positive records lost:\")\n",
    "print(data_g[1]-inliers_g[1])"
   ]
  },
  {
   "cell_type": "markdown",
   "metadata": {},
   "source": [
    "We lost positive/negative records at an approximately 2-3 ratio, while only 7% of all records in the dataset are positive. We believe that since the anomaly detection was exacerbating the class imbalance, it lead to even worse positive precision and recall, for the same reason the class imbalance was making the tuning of our models difficult in the first place."
   ]
  },
  {
   "cell_type": "markdown",
   "metadata": {},
   "source": [
    "***\n",
    "# **Modeling**\n",
    "***"
   ]
  },
  {
   "cell_type": "markdown",
   "metadata": {},
   "source": [
    ">### **=========== WARNING: ===========**\n",
    "> Some of the code cells in this section use the 'n_jobs' parameter, which determines the amount of cores and threads each class uses when they run. This was done to improve the runtimes of the models on my (Rasheek's) desktop, and the values I used are specific to my CPU. If you decide to rerun these cells, make sure to change this parameter or just get rid of it before doing so. More info [here](https://stackoverflow.com/questions/32761556/python-scikit-learn-n-jobs)."
   ]
  },
  {
   "cell_type": "markdown",
   "metadata": {},
   "source": [
    "For our modeling process, we decided to thoroughly test several different models, tune them to their best, and choose the best one we could make.\n",
    "\n",
    "Our initial thinking was that since this is a simple binary classification problem without highly complex decision boundaries (probably), a Decision Tree or a Naive Bayes Classifier would likely have good results. However, we still decided to try out many different kinds of models to see if there were any unexpected benefits."
   ]
  },
  {
   "cell_type": "markdown",
   "metadata": {},
   "source": [
    "### Modelling Goals"
   ]
  },
  {
   "cell_type": "markdown",
   "metadata": {},
   "source": [
    "One problem that we frequently faced was that the precision and recall of the positive class (indicating death) was very poor. This was true for the early versions of many of our models of all types. As explained near the end of the Data Prep section, we reasoned that this was likely due to the large class imbalance reducing the model's available information about the positive class.\n",
    "\n",
    "Increasing our model's positive precision and especially recall is very important, as the consequences of a false negative are very high, and our model's primary purpose is to detect when a patient is likely to die. This is why the main goal for our final model was to increase its sensitivity to positive cases, as in increase positive recall.\n",
    "\n",
    "Although some of our tuning can accomplish this, it comes with the risk of increasing false positives, as in lowering positive precision. We decided that this would be generally acceptable within some margin, as the consequences of a false negative greatly outweigh the consequences of a false positive.\n",
    "\n",
    "Accidentally releasing a patient from care that is at high risk of death can have much worse consequences than whatever resources are wasted on a patient that isn't at much risk."
   ]
  },
  {
   "cell_type": "markdown",
   "metadata": {},
   "source": [
    "## Ensemble - Random Forest\n",
    "***"
   ]
  },
  {
   "cell_type": "markdown",
   "metadata": {},
   "source": [
    "### Initial Testing"
   ]
  },
  {
   "cell_type": "markdown",
   "metadata": {},
   "source": [
    "We started with a version of a Random Forest classifier with no tuning, yielding moderate results."
   ]
  },
  {
   "cell_type": "code",
   "execution_count": 15,
   "metadata": {},
   "outputs": [
    {
     "name": "stdout",
     "output_type": "stream",
     "text": [
      "              precision    recall  f1-score   support\n",
      "\n",
      "         0.0       0.94      0.62      0.75    946356\n",
      "         1.0       0.09      0.46      0.14     73310\n",
      "\n",
      "    accuracy                           0.61   1019666\n",
      "   macro avg       0.51      0.54      0.45   1019666\n",
      "weighted avg       0.88      0.61      0.70   1019666\n",
      "\n"
     ]
    }
   ],
   "source": [
    "params = {\n",
    "    'n_estimators': [50]\n",
    "}\n",
    "gs = ms.GridSearchCV(RandomForestClassifier(n_jobs=11), params, n_jobs=5)\n",
    "preds = ms.cross_val_predict(gs, f1, labels)\n",
    "print(metrics.classification_report(labels, preds))"
   ]
  },
  {
   "cell_type": "markdown",
   "metadata": {},
   "source": [
    "As explained in the Data Preparation section, we decided to drop the 'ICU' feature due to its redundance possibly adding noise to the model."
   ]
  },
  {
   "cell_type": "code",
   "execution_count": 16,
   "metadata": {},
   "outputs": [
    {
     "name": "stdout",
     "output_type": "stream",
     "text": [
      "              precision    recall  f1-score   support\n",
      "\n",
      "         0.0       0.94      0.63      0.75    946356\n",
      "         1.0       0.09      0.46      0.15     73310\n",
      "\n",
      "    accuracy                           0.61   1019666\n",
      "   macro avg       0.51      0.54      0.45   1019666\n",
      "weighted avg       0.88      0.61      0.71   1019666\n",
      "\n"
     ]
    }
   ],
   "source": [
    "params = {\n",
    "    'n_estimators': [50]\n",
    "}\n",
    "gs = ms.GridSearchCV(RandomForestClassifier(n_jobs=11), params, n_jobs=5)\n",
    "preds = ms.cross_val_predict(gs, f2, labels)\n",
    "print(metrics.classification_report(labels, preds))"
   ]
  },
  {
   "cell_type": "markdown",
   "metadata": {},
   "source": [
    "This gave us essentially the same result, if not slightly better, demonstrating that the 'ICU' feature was not benefitting our model. After dropping 'Med_Unit' as well (due to irrelevance), we got significantly better results."
   ]
  },
  {
   "cell_type": "code",
   "execution_count": 17,
   "metadata": {},
   "outputs": [
    {
     "name": "stdout",
     "output_type": "stream",
     "text": [
      "              precision    recall  f1-score   support\n",
      "\n",
      "         0.0       0.96      0.97      0.96    946356\n",
      "         1.0       0.54      0.49      0.52     73310\n",
      "\n",
      "    accuracy                           0.93   1019666\n",
      "   macro avg       0.75      0.73      0.74   1019666\n",
      "weighted avg       0.93      0.93      0.93   1019666\n",
      "\n"
     ]
    }
   ],
   "source": [
    "params = {\n",
    "    'n_estimators': [50]\n",
    "}\n",
    "gs = ms.GridSearchCV(RandomForestClassifier(n_jobs=11), params, n_jobs=5)\n",
    "preds = ms.cross_val_predict(gs, f3, labels)\n",
    "print(metrics.classification_report(labels, preds))"
   ]
  },
  {
   "cell_type": "markdown",
   "metadata": {},
   "source": [
    "This indicated that 'Med_Unit' was not only irrelevant, it was significantly reducing the effectiveness of our model, likely by obstructing each tree's gain calcuations with extra data."
   ]
  },
  {
   "cell_type": "markdown",
   "metadata": {},
   "source": [
    "At this point, we also noticed that in the Decision Tree model we were working on (in another section), the optimal amount of features being used was around 5-10 features, indicating that most of the information in the dataset was not improving the model's performance. Thus, we decided to try dropping all features that had a less than 2% correlation with death. This gave us a decent improvement in runtime with very similar overall performance."
   ]
  },
  {
   "cell_type": "code",
   "execution_count": 18,
   "metadata": {},
   "outputs": [
    {
     "name": "stdout",
     "output_type": "stream",
     "text": [
      "              precision    recall  f1-score   support\n",
      "\n",
      "         0.0       0.96      0.97      0.97    946356\n",
      "         1.0       0.56      0.48      0.52     73310\n",
      "\n",
      "    accuracy                           0.94   1019666\n",
      "   macro avg       0.76      0.73      0.74   1019666\n",
      "weighted avg       0.93      0.94      0.93   1019666\n",
      "\n"
     ]
    }
   ],
   "source": [
    "params = {\n",
    "    'n_estimators': [50]\n",
    "}\n",
    "gs = ms.GridSearchCV(RandomForestClassifier(n_jobs=11), params, n_jobs=5)\n",
    "preds = ms.cross_val_predict(gs, f4, labels)\n",
    "print(metrics.classification_report(labels, preds))"
   ]
  },
  {
   "cell_type": "markdown",
   "metadata": {},
   "source": [
    "Our main problem now was that the precision and recall of the positive class (indicating death) was very poor. This is when we discovered the 'class_weight' parameter for many of our models, allowing us to weigh the impact of a positive prediction much higher than negative ones."
   ]
  },
  {
   "cell_type": "code",
   "execution_count": 19,
   "metadata": {},
   "outputs": [
    {
     "name": "stdout",
     "output_type": "stream",
     "text": [
      "              precision    recall  f1-score   support\n",
      "\n",
      "         0.0       0.98      0.90      0.94    946356\n",
      "         1.0       0.39      0.81      0.53     73310\n",
      "\n",
      "    accuracy                           0.90   1019666\n",
      "   macro avg       0.69      0.86      0.74   1019666\n",
      "weighted avg       0.94      0.90      0.91   1019666\n",
      "\n"
     ]
    }
   ],
   "source": [
    "params = {\n",
    "    'n_estimators': [50]\n",
    "}\n",
    "gs = ms.GridSearchCV(RandomForestClassifier(n_jobs=11, class_weight={0:1, 1:10}), params, n_jobs=5)\n",
    "preds = ms.cross_val_predict(gs, f4, labels)\n",
    "print(metrics.classification_report(labels, preds))"
   ]
  },
  {
   "cell_type": "markdown",
   "metadata": {},
   "source": [
    "As expected, this greatly improved our positive recall while reducing our positive precision. We also lost some negative recall and overall accuracy, but as explained, this was worth the cost. The accuracy was still relatively high, at 90%."
   ]
  },
  {
   "cell_type": "markdown",
   "metadata": {},
   "source": [
    "### Tuning"
   ]
  },
  {
   "cell_type": "markdown",
   "metadata": {},
   "source": [
    "At this point, we moved on to hyperparameter tuning.\n",
    ">Caution: This cell is a nested cv and takes a very long time to run."
   ]
  },
  {
   "cell_type": "code",
   "execution_count": 77,
   "metadata": {},
   "outputs": [
    {
     "name": "stdout",
     "output_type": "stream",
     "text": [
      "              precision    recall  f1-score   support\n",
      "\n",
      "         0.0       0.98      0.91      0.94    946356\n",
      "         1.0       0.40      0.80      0.54     73310\n",
      "\n",
      "    accuracy                           0.90   1019666\n",
      "   macro avg       0.69      0.85      0.74   1019666\n",
      "weighted avg       0.94      0.90      0.91   1019666\n",
      "\n"
     ]
    }
   ],
   "source": [
    "params = {\n",
    "    'n_estimators': [50, 75, 100],\n",
    "    'class_weight': [{0:1, 1:10}, {0:1, 1:8}, 'balanced'],\n",
    "    'max_features': [None, 'sqrt']\n",
    "}\n",
    "gs = ms.GridSearchCV(RandomForestClassifier(n_jobs=8, class_weight={0:1, 1:10}), params, n_jobs=5)\n",
    "preds = ms.cross_val_predict(gs, f4, labels)\n",
    "print(metrics.classification_report(labels, preds))"
   ]
  },
  {
   "cell_type": "code",
   "execution_count": 20,
   "metadata": {},
   "outputs": [
    {
     "name": "stdout",
     "output_type": "stream",
     "text": [
      "              precision    recall  f1-score   support\n",
      "\n",
      "         0.0       0.99      0.92      0.96    946356\n",
      "         1.0       0.48      0.92      0.63     73310\n",
      "\n",
      "    accuracy                           0.92   1019666\n",
      "   macro avg       0.73      0.92      0.79   1019666\n",
      "weighted avg       0.96      0.92      0.93   1019666\n",
      "\n",
      "Best parameters: {'class_weight': {0: 1, 1: 8}, 'max_features': None, 'n_estimators': 50}\n"
     ]
    }
   ],
   "source": [
    "params = {\n",
    "    'n_estimators': [50, 75, 100],\n",
    "    'class_weight': [{0:1, 1:10}, {0:1, 1:8}, 'balanced'],\n",
    "    'max_features': [None, 'sqrt']\n",
    "}\n",
    "gs = ms.GridSearchCV(RandomForestClassifier(n_jobs=10, class_weight={0:1, 1:10}), params, n_jobs=5)\n",
    "gs.fit(f4, labels)\n",
    "preds = gs.predict(f4)\n",
    "print(metrics.classification_report(labels, preds))\n",
    "print(\"Best parameters:\", gs.best_params_)"
   ]
  },
  {
   "cell_type": "markdown",
   "metadata": {},
   "source": [
    ">Note: the classification report above isn't used for anything and was created/printed by mistake. We only took the best parameters from this GridSearchCV for our next models. It has very good results because it is predicting on its own training data, which would be considered data leakage."
   ]
  },
  {
   "cell_type": "markdown",
   "metadata": {},
   "source": [
    "Using these parameters, we ended up with very good results, having a high accuracy, positive recall, and f-score."
   ]
  },
  {
   "cell_type": "code",
   "execution_count": 78,
   "metadata": {},
   "outputs": [
    {
     "name": "stdout",
     "output_type": "stream",
     "text": [
      "              precision    recall  f1-score   support\n",
      "\n",
      "         0.0       0.98      0.91      0.94    946356\n",
      "         1.0       0.40      0.80      0.54     73310\n",
      "\n",
      "    accuracy                           0.90   1019666\n",
      "   macro avg       0.69      0.85      0.74   1019666\n",
      "weighted avg       0.94      0.90      0.91   1019666\n",
      "\n"
     ]
    }
   ],
   "source": [
    "rfc = RandomForestClassifier(n_jobs=10, class_weight={0:1, 1:8}, n_estimators=50, max_features=None)\n",
    "preds = ms.cross_val_predict(rfc, f4, labels)\n",
    "print(metrics.classification_report(labels, preds))"
   ]
  },
  {
   "cell_type": "markdown",
   "metadata": {},
   "source": [
    "To try to improve the model further, we tried cutting out all features that had a less than 10% correlation with death in an attempt to get rid of noisy information (f5 from the Data Preparation section)."
   ]
  },
  {
   "cell_type": "code",
   "execution_count": 60,
   "metadata": {},
   "outputs": [
    {
     "name": "stdout",
     "output_type": "stream",
     "text": [
      "              precision    recall  f1-score   support\n",
      "\n",
      "         0.0       0.99      0.89      0.94    946356\n",
      "         1.0       0.39      0.88      0.54     73310\n",
      "\n",
      "    accuracy                           0.89   1019666\n",
      "   macro avg       0.69      0.89      0.74   1019666\n",
      "weighted avg       0.95      0.89      0.91   1019666\n",
      "\n"
     ]
    }
   ],
   "source": [
    "rfc = RandomForestClassifier(n_jobs=10, class_weight={0:1, 1:8}, n_estimators=50, max_features=None)\n",
    "preds = ms.cross_val_predict(rfc, f5, labels)\n",
    "print(metrics.classification_report(labels, preds))"
   ]
  },
  {
   "cell_type": "markdown",
   "metadata": {},
   "source": [
    "This significantly boosted the model's positive recall, with marginal losses to precision and accuracy, which is the exact tradeoff we were looking for."
   ]
  },
  {
   "cell_type": "markdown",
   "metadata": {},
   "source": [
    "### Final Results"
   ]
  },
  {
   "cell_type": "markdown",
   "metadata": {},
   "source": [
    "Continuing the same trend, we then tried removing the 'Rhenal_Chronic' and 'USMER' features, because out of the remaining features, these had the lowest correlation with death. This gave us a very slight improvement.\n",
    "\n",
    "Overall, this was one of our top performing models."
   ]
  },
  {
   "cell_type": "code",
   "execution_count": 62,
   "metadata": {},
   "outputs": [
    {
     "name": "stdout",
     "output_type": "stream",
     "text": [
      "Remaining features' correlation with death:\n",
      "USMER            0.117652\n",
      "Hospitalized    -0.517813\n",
      "Died             1.000000\n",
      "Intubed          0.504964\n",
      "Pneumonia        0.471531\n",
      "Age              0.320703\n",
      "Diabetes         0.215750\n",
      "Hypertension     0.203158\n",
      "Renal_Chronic    0.119538\n",
      "COVID            0.190817\n",
      "Name: Died, dtype: float64\n"
     ]
    }
   ],
   "source": [
    "to_drop = ['ICU', 'Med_Unit', 'Sex', 'Pregnant', 'Asthma', 'Tobacco', 'Obesity', 'Cardiovascular', 'Other_Disease', 'Imnsupr', 'COPD']\n",
    "print(\"Remaining features' correlation with death:\")\n",
    "print(data.drop(to_drop, axis=1).corr()['Died'])"
   ]
  },
  {
   "cell_type": "code",
   "execution_count": 59,
   "metadata": {},
   "outputs": [
    {
     "name": "stdout",
     "output_type": "stream",
     "text": [
      "              precision    recall  f1-score   support\n",
      "\n",
      "         0.0       0.99      0.89      0.94    946356\n",
      "         1.0       0.39      0.91      0.54     73310\n",
      "\n",
      "    accuracy                           0.89   1019666\n",
      "   macro avg       0.69      0.90      0.74   1019666\n",
      "weighted avg       0.95      0.89      0.91   1019666\n",
      "\n"
     ]
    }
   ],
   "source": [
    "rfc = RandomForestClassifier(n_jobs=10, class_weight={0:1, 1:8}, n_estimators=50, max_features=None)\n",
    "preds = ms.cross_val_predict(rfc, f6, labels)\n",
    "print(metrics.classification_report(labels, preds))"
   ]
  },
  {
   "cell_type": "markdown",
   "metadata": {},
   "source": [
    "### Extra Testing\n",
    "Below, we tried rerunning this model with some of the features we had cut out, to confirm that our feature selection was having a positive impact."
   ]
  },
  {
   "cell_type": "code",
   "execution_count": 38,
   "metadata": {},
   "outputs": [
    {
     "name": "stdout",
     "output_type": "stream",
     "text": [
      "              precision    recall  f1-score   support\n",
      "\n",
      "         0.0       0.95      0.61      0.74    946356\n",
      "         1.0       0.10      0.59      0.18     73310\n",
      "\n",
      "    accuracy                           0.60   1019666\n",
      "   macro avg       0.53      0.60      0.46   1019666\n",
      "weighted avg       0.89      0.60      0.70   1019666\n",
      "\n"
     ]
    }
   ],
   "source": [
    "rfc = RandomForestClassifier(n_jobs=10, class_weight={0:1, 1:8}, n_estimators=50, max_features=None)\n",
    "preds = ms.cross_val_predict(rfc, f1, labels)\n",
    "print(metrics.classification_report(labels, preds))"
   ]
  },
  {
   "cell_type": "code",
   "execution_count": 39,
   "metadata": {},
   "outputs": [
    {
     "name": "stdout",
     "output_type": "stream",
     "text": [
      "              precision    recall  f1-score   support\n",
      "\n",
      "         0.0       0.95      0.60      0.74    946356\n",
      "         1.0       0.10      0.60      0.18     73310\n",
      "\n",
      "    accuracy                           0.60   1019666\n",
      "   macro avg       0.53      0.60      0.46   1019666\n",
      "weighted avg       0.89      0.60      0.70   1019666\n",
      "\n"
     ]
    }
   ],
   "source": [
    "rfc = RandomForestClassifier(n_jobs=10, class_weight={0:1, 1:8}, n_estimators=50, max_features=None)\n",
    "preds = ms.cross_val_predict(rfc, f2, labels)\n",
    "print(metrics.classification_report(labels, preds))"
   ]
  },
  {
   "cell_type": "code",
   "execution_count": 40,
   "metadata": {},
   "outputs": [
    {
     "name": "stdout",
     "output_type": "stream",
     "text": [
      "              precision    recall  f1-score   support\n",
      "\n",
      "         0.0       0.98      0.92      0.95    946356\n",
      "         1.0       0.42      0.74      0.53     73310\n",
      "\n",
      "    accuracy                           0.91   1019666\n",
      "   macro avg       0.70      0.83      0.74   1019666\n",
      "weighted avg       0.94      0.91      0.92   1019666\n",
      "\n"
     ]
    }
   ],
   "source": [
    "rfc = RandomForestClassifier(n_jobs=10, class_weight={0:1, 1:8}, n_estimators=50, max_features=None)\n",
    "preds = ms.cross_val_predict(rfc, f3, labels)\n",
    "print(metrics.classification_report(labels, preds))"
   ]
  },
  {
   "cell_type": "markdown",
   "metadata": {},
   "source": [
    "The poor results from these tests confirmed our assumptions, so we ultimately decided to stick with f6 for our final version of a Random Forest Classifier."
   ]
  },
  {
   "cell_type": "markdown",
   "metadata": {},
   "source": [
    "## Decision Tree\n",
    "***"
   ]
  },
  {
   "cell_type": "markdown",
   "metadata": {},
   "source": [
    "A decision tree will help solve the classification problem we have at hand. Decision trees are relatively interpretable. In a real life scenario, a healthcare worker (a group who would find this data and its applications attractive) is likely to understand and trust the logic behind using a decision tree an ML model."
   ]
  },
  {
   "cell_type": "markdown",
   "metadata": {},
   "source": [
    "### Including All Features\n",
    "All features included in the first training of the model"
   ]
  },
  {
   "cell_type": "markdown",
   "metadata": {},
   "source": [
    "Accuracy is decently high, however, the recall is low. Need to do more feature selection and hyperparameter tuning"
   ]
  },
  {
   "cell_type": "code",
   "execution_count": 16,
   "metadata": {},
   "outputs": [
    {
     "name": "stdout",
     "output_type": "stream",
     "text": [
      "Best params: {'max_depth': 5, 'max_features': 10}\n",
      "Accuracy: 90.53994030355392\n"
     ]
    }
   ],
   "source": [
    "params = {'max_depth': list(range(5, 25, 5)),\n",
    "          'max_features': list(range(5, 21, 5))}\n",
    "dt = tree.DecisionTreeClassifier()\n",
    "gs = ms.GridSearchCV(dt, params, scoring='accuracy', n_jobs=-1)\n",
    "gs.fit(f1, labels)\n",
    "print(\"Best params:\", gs.best_params_)\n",
    "print(\"Accuracy:\", gs.best_score_*100)"
   ]
  },
  {
   "cell_type": "code",
   "execution_count": 17,
   "metadata": {},
   "outputs": [
    {
     "name": "stdout",
     "output_type": "stream",
     "text": [
      "              precision    recall  f1-score   support\n",
      "\n",
      "         0.0       0.94      0.86      0.90    946356\n",
      "         1.0       0.15      0.32      0.20     73310\n",
      "\n",
      "    accuracy                           0.82   1019666\n",
      "   macro avg       0.55      0.59      0.55   1019666\n",
      "weighted avg       0.89      0.82      0.85   1019666\n",
      "\n"
     ]
    }
   ],
   "source": [
    "gs = ms.GridSearchCV(dt, params, scoring='accuracy', n_jobs=-1)\n",
    "preds = ms.cross_val_predict(gs, f1, labels)\n",
    "print(metrics.classification_report(labels, preds))"
   ]
  },
  {
   "cell_type": "markdown",
   "metadata": {},
   "source": [
    "### f2: Dropping ICU \n",
    "Dropped ICU due to high correlation with hospitalized. Decided that them being in the ICU indicates they were hospitalized in the first place"
   ]
  },
  {
   "cell_type": "code",
   "execution_count": 18,
   "metadata": {},
   "outputs": [
    {
     "name": "stdout",
     "output_type": "stream",
     "text": [
      "Best params: {'max_depth': 5, 'max_features': 7}\n",
      "Accuracy: 91.13778285017817\n"
     ]
    }
   ],
   "source": [
    "params = {'max_depth': list(range(5, 25, 5)),\n",
    "          'max_features': list(range(2, 21, 5))}\n",
    "dt = tree.DecisionTreeClassifier()\n",
    "gs = ms.GridSearchCV(dt, params, scoring='accuracy')\n",
    "gs.fit(f2, labels)\n",
    "print(\"Best params:\", gs.best_params_)\n",
    "print(\"Accuracy:\", gs.best_score_*100)"
   ]
  },
  {
   "cell_type": "code",
   "execution_count": 19,
   "metadata": {},
   "outputs": [
    {
     "name": "stdout",
     "output_type": "stream",
     "text": [
      "[[844610 101746]\n",
      " [ 41203  32107]]\n",
      "              precision    recall  f1-score   support\n",
      "\n",
      "         0.0       0.95      0.89      0.92    946356\n",
      "         1.0       0.24      0.44      0.31     73310\n",
      "\n",
      "    accuracy                           0.86   1019666\n",
      "   macro avg       0.60      0.67      0.62   1019666\n",
      "weighted avg       0.90      0.86      0.88   1019666\n",
      "\n"
     ]
    }
   ],
   "source": [
    "dt = tree.DecisionTreeClassifier(criterion='entropy', max_depth=10, max_features=10)\n",
    "preds = ms.cross_val_predict(dt, f2, labels, cv=10)\n",
    "print(metrics.confusion_matrix(labels, preds))\n",
    "print(metrics.classification_report(labels, preds))"
   ]
  },
  {
   "cell_type": "markdown",
   "metadata": {},
   "source": [
    "### Slight Increase in Positive Recall\n",
    "The recall for positive case was decently low, which is bad because death is a strong consequence, adjusting the class_weight parameter to place importance on the records which indicate death. "
   ]
  },
  {
   "cell_type": "code",
   "execution_count": 20,
   "metadata": {},
   "outputs": [
    {
     "name": "stdout",
     "output_type": "stream",
     "text": [
      "[[784724 161632]\n",
      " [ 12678  60632]]\n",
      "              precision    recall  f1-score   support\n",
      "\n",
      "         0.0       0.98      0.83      0.90    946356\n",
      "         1.0       0.27      0.83      0.41     73310\n",
      "\n",
      "    accuracy                           0.83   1019666\n",
      "   macro avg       0.63      0.83      0.66   1019666\n",
      "weighted avg       0.93      0.83      0.86   1019666\n",
      "\n"
     ]
    }
   ],
   "source": [
    "dt = tree.DecisionTreeClassifier(criterion='entropy', max_depth=10, max_features=10, class_weight={0:1, 1:5})\n",
    "preds = ms.cross_val_predict(dt, f2, labels, cv=10)\n",
    "print(metrics.confusion_matrix(labels, preds))\n",
    "print(metrics.classification_report(labels, preds))"
   ]
  },
  {
   "cell_type": "markdown",
   "metadata": {},
   "source": [
    "### f3: Dropping Med Units\n",
    "More feature deletion. Dropped med unit due to logical assumption, also low correlation with anything besides hospitalized and ICU (which was earlier decided being in the ICU indicates the patient has been hospitalized). Also adjusting the class weight, giving more importance to the records that indicated they died. Primarily to increase recall. "
   ]
  },
  {
   "cell_type": "code",
   "execution_count": 21,
   "metadata": {},
   "outputs": [
    {
     "name": "stdout",
     "output_type": "stream",
     "text": [
      "Best params: {'max_depth': 5, 'max_features': 4}\n",
      "Accuracy: 94.32677013586958\n"
     ]
    }
   ],
   "source": [
    "params = {'max_depth': list(range(5, 25, 5)),\n",
    "          'max_features': list(range(2, 21, 5))}\n",
    "params['max_features'] = list(range(2,21,2))\n",
    "dt = tree.DecisionTreeClassifier()\n",
    "gs = ms.GridSearchCV(dt, params, scoring='accuracy', n_jobs=-1)\n",
    "gs.fit(f3, labels)\n",
    "print(\"Best params:\", gs.best_params_)\n",
    "print(\"Accuracy:\", gs.best_score_*100)"
   ]
  },
  {
   "cell_type": "code",
   "execution_count": 22,
   "metadata": {},
   "outputs": [
    {
     "name": "stdout",
     "output_type": "stream",
     "text": [
      "[[840651 105705]\n",
      " [  5686  67624]]\n",
      "              precision    recall  f1-score   support\n",
      "\n",
      "         0.0       0.99      0.89      0.94    946356\n",
      "         1.0       0.39      0.92      0.55     73310\n",
      "\n",
      "    accuracy                           0.89   1019666\n",
      "   macro avg       0.69      0.91      0.74   1019666\n",
      "weighted avg       0.95      0.89      0.91   1019666\n",
      "\n"
     ]
    }
   ],
   "source": [
    "#dt for f3 with med unit dropped\n",
    "\n",
    "dt = tree.DecisionTreeClassifier(criterion='entropy', max_depth=10, max_features=8, class_weight={0:1, 1:9})\n",
    "preds = ms.cross_val_predict(dt, f3, labels, cv=10)\n",
    "print(metrics.confusion_matrix(labels, preds))\n",
    "print(metrics.classification_report(labels, preds))\n",
    "\n",
    "#overall accuracy improved, same with precision. Overall, the precision seems to be hard to improve with a decision tree"
   ]
  },
  {
   "cell_type": "markdown",
   "metadata": {},
   "source": [
    "### Conclusions based on Decision Tree:\n",
    "With the ICU and Med_unit being dropped, we have a left over total of 19 features to support the training of this model. There is a positive recall rate of 92% after giving more weight to the death cases. In later models, we try boosting to combat this similar issue. Overall, the decision tree is a good model when it comes to our classification problem with the dataset. "
   ]
  },
  {
   "cell_type": "markdown",
   "metadata": {},
   "source": [
    "## SVM\n",
    "***"
   ]
  },
  {
   "cell_type": "markdown",
   "metadata": {},
   "source": [
    "We initially tried using sklearn's SVC, but our runtimes were astronomically long. Eventually we found something in the [documentation](https://scikit-learn.org/stable/modules/generated/sklearn.svm.SVC.html) mentioning that \"the fit time scales at least quadratically with the number of samples and may be impractical beyond tens of thousands of samples. For large datasets consider using LinearSVC or SGDClassifier instead...\", so we decided to try out both."
   ]
  },
  {
   "cell_type": "markdown",
   "metadata": {},
   "source": [
    "### LinearSVC"
   ]
  },
  {
   "cell_type": "markdown",
   "metadata": {},
   "source": [
    "[LinearSVC](https://scikit-learn.org/stable/modules/generated/sklearn.svm.LinearSVC.html) is essentially the same as a regular SVC but uses a linear kernel function, along with some other minor differences."
   ]
  },
  {
   "cell_type": "markdown",
   "metadata": {},
   "source": [
    "Below we go through different tests with LinearSVC in order to maximize accuracy and positive recall. We began by running an untuned model on our data to see if it works."
   ]
  },
  {
   "cell_type": "code",
   "execution_count": 25,
   "metadata": {},
   "outputs": [
    {
     "name": "stdout",
     "output_type": "stream",
     "text": [
      "              precision    recall  f1-score   support\n",
      "\n",
      "         0.0       0.99      0.89      0.94    946356\n",
      "         1.0       0.39      0.87      0.54     73310\n",
      "\n",
      "    accuracy                           0.89   1019666\n",
      "   macro avg       0.69      0.88      0.74   1019666\n",
      "weighted avg       0.95      0.89      0.91   1019666\n",
      "\n"
     ]
    }
   ],
   "source": [
    "scaler = StandardScaler()\n",
    "svc = svm.LinearSVC(dual='auto', class_weight={0:1, 1:8})\n",
    "pipe = Pipeline([('scaler', scaler), ('svc', svc)])\n",
    "preds = ms.cross_val_predict(pipe, features, labels)\n",
    "print(metrics.classification_report(labels, preds))"
   ]
  },
  {
   "cell_type": "markdown",
   "metadata": {},
   "source": [
    "Below we are tuning the hyper parameters to determine the best combination for the model on this dataset."
   ]
  },
  {
   "cell_type": "code",
   "execution_count": 29,
   "metadata": {},
   "outputs": [
    {
     "name": "stdout",
     "output_type": "stream",
     "text": [
      "              precision    recall  f1-score   support\n",
      "\n",
      "         0.0       0.98      0.91      0.94    946356\n",
      "         1.0       0.40      0.81      0.54     73310\n",
      "\n",
      "    accuracy                           0.90   1019666\n",
      "   macro avg       0.69      0.86      0.74   1019666\n",
      "weighted avg       0.94      0.90      0.91   1019666\n",
      "\n"
     ]
    }
   ],
   "source": [
    "scaler = StandardScaler()\n",
    "svc = svm.LinearSVC(dual='auto')\n",
    "pipe = Pipeline([('scaler', scaler), ('svc', svc)])\n",
    "params = {\n",
    "    'svc__class_weight': [{0:1, 1:8}, {0:1, 1:5}, {0:1, 1:10}, 'balanced'],\n",
    "    'svc__C': [0.1, 1, 10, 100]\n",
    "}\n",
    "gs = ms.GridSearchCV(pipe, params, n_jobs=6)\n",
    "preds = ms.cross_val_predict(gs, features, labels)\n",
    "print(metrics.classification_report(labels, preds))"
   ]
  },
  {
   "cell_type": "code",
   "execution_count": 30,
   "metadata": {},
   "outputs": [
    {
     "name": "stdout",
     "output_type": "stream",
     "text": [
      "Best parameters: {'svc__C': 0.1, 'svc__class_weight': {0: 1, 1: 5}}\n"
     ]
    }
   ],
   "source": [
    "scaler = StandardScaler()\n",
    "svc = svm.LinearSVC(dual='auto')\n",
    "pipe = Pipeline([('scaler', scaler), ('svc', svc)])\n",
    "params = {\n",
    "    'svc__class_weight': [{0:1, 1:8}, {0:1, 1:5}, {0:1, 1:10}, 'balanced'],\n",
    "    'svc__C': [0.1, 1, 10, 100]\n",
    "}\n",
    "gs = ms.GridSearchCV(pipe, params, n_jobs=6)\n",
    "gs.fit(features, labels)\n",
    "print(\"Best parameters:\", gs.best_params_)"
   ]
  },
  {
   "cell_type": "markdown",
   "metadata": {},
   "source": [
    "Now that we have determined the best parameters, we test the model with different combinations of features that were explained above in hopes of increasing accuracy and positive recall."
   ]
  },
  {
   "cell_type": "code",
   "execution_count": 28,
   "metadata": {},
   "outputs": [
    {
     "name": "stdout",
     "output_type": "stream",
     "text": [
      "              precision    recall  f1-score   support\n",
      "\n",
      "         0.0       0.98      0.91      0.94    946356\n",
      "         1.0       0.40      0.81      0.54     73310\n",
      "\n",
      "    accuracy                           0.90   1019666\n",
      "   macro avg       0.69      0.86      0.74   1019666\n",
      "weighted avg       0.94      0.90      0.91   1019666\n",
      "\n"
     ]
    }
   ],
   "source": [
    "scaler = StandardScaler()\n",
    "svc = svm.LinearSVC(dual='auto', class_weight={0:1, 1:5}, C=0.1)\n",
    "pipe = Pipeline([('scaler', scaler), ('svc', svc)])\n",
    "preds = ms.cross_val_predict(pipe, features, labels)\n",
    "print(metrics.classification_report(labels, preds))"
   ]
  },
  {
   "cell_type": "code",
   "execution_count": 31,
   "metadata": {},
   "outputs": [
    {
     "name": "stdout",
     "output_type": "stream",
     "text": [
      "              precision    recall  f1-score   support\n",
      "\n",
      "         0.0       0.98      0.91      0.94    946356\n",
      "         1.0       0.40      0.81      0.54     73310\n",
      "\n",
      "    accuracy                           0.90   1019666\n",
      "   macro avg       0.69      0.86      0.74   1019666\n",
      "weighted avg       0.94      0.90      0.91   1019666\n",
      "\n"
     ]
    }
   ],
   "source": [
    "scaler = StandardScaler()\n",
    "svc = svm.LinearSVC(dual='auto', class_weight={0:1, 1:5}, C=0.1)\n",
    "pipe = Pipeline([('scaler', scaler), ('svc', svc)])\n",
    "preds = ms.cross_val_predict(pipe, f2, labels)\n",
    "print(metrics.classification_report(labels, preds))"
   ]
  },
  {
   "cell_type": "code",
   "execution_count": 32,
   "metadata": {},
   "outputs": [
    {
     "name": "stdout",
     "output_type": "stream",
     "text": [
      "              precision    recall  f1-score   support\n",
      "\n",
      "         0.0       0.99      0.91      0.95    946356\n",
      "         1.0       0.43      0.85      0.57     73310\n",
      "\n",
      "    accuracy                           0.91   1019666\n",
      "   macro avg       0.71      0.88      0.76   1019666\n",
      "weighted avg       0.95      0.91      0.92   1019666\n",
      "\n"
     ]
    }
   ],
   "source": [
    "scaler = StandardScaler()\n",
    "svc = svm.LinearSVC(dual='auto', class_weight={0:1, 1:5}, C=0.1)\n",
    "pipe = Pipeline([('scaler', scaler), ('svc', svc)])\n",
    "preds = ms.cross_val_predict(pipe, f3, labels)\n",
    "print(metrics.classification_report(labels, preds))"
   ]
  },
  {
   "cell_type": "code",
   "execution_count": 33,
   "metadata": {},
   "outputs": [
    {
     "name": "stdout",
     "output_type": "stream",
     "text": [
      "              precision    recall  f1-score   support\n",
      "\n",
      "         0.0       0.99      0.91      0.95    946356\n",
      "         1.0       0.43      0.84      0.57     73310\n",
      "\n",
      "    accuracy                           0.91   1019666\n",
      "   macro avg       0.71      0.88      0.76   1019666\n",
      "weighted avg       0.95      0.91      0.92   1019666\n",
      "\n"
     ]
    }
   ],
   "source": [
    "scaler = StandardScaler()\n",
    "svc = svm.LinearSVC(dual='auto', class_weight={0:1, 1:5}, C=0.1)\n",
    "pipe = Pipeline([('scaler', scaler), ('svc', svc)])\n",
    "preds = ms.cross_val_predict(pipe, f4, labels)\n",
    "print(metrics.classification_report(labels, preds))"
   ]
  },
  {
   "cell_type": "code",
   "execution_count": 34,
   "metadata": {},
   "outputs": [
    {
     "name": "stdout",
     "output_type": "stream",
     "text": [
      "              precision    recall  f1-score   support\n",
      "\n",
      "         0.0       0.99      0.91      0.95    946356\n",
      "         1.0       0.43      0.84      0.57     73310\n",
      "\n",
      "    accuracy                           0.91   1019666\n",
      "   macro avg       0.71      0.88      0.76   1019666\n",
      "weighted avg       0.95      0.91      0.92   1019666\n",
      "\n"
     ]
    }
   ],
   "source": [
    "scaler = StandardScaler()\n",
    "svc = svm.LinearSVC(dual='auto', class_weight={0:1, 1:5}, C=0.1)\n",
    "pipe = Pipeline([('scaler', scaler), ('svc', svc)])\n",
    "preds = ms.cross_val_predict(pipe, f5, labels)\n",
    "print(metrics.classification_report(labels, preds))"
   ]
  },
  {
   "cell_type": "code",
   "execution_count": 35,
   "metadata": {},
   "outputs": [
    {
     "name": "stdout",
     "output_type": "stream",
     "text": [
      "              precision    recall  f1-score   support\n",
      "\n",
      "         0.0       0.99      0.91      0.95    946356\n",
      "         1.0       0.43      0.84      0.57     73310\n",
      "\n",
      "    accuracy                           0.91   1019666\n",
      "   macro avg       0.71      0.88      0.76   1019666\n",
      "weighted avg       0.95      0.91      0.92   1019666\n",
      "\n"
     ]
    }
   ],
   "source": [
    "scaler = StandardScaler()\n",
    "svc = svm.LinearSVC(dual='auto', class_weight={0:1, 1:5}, C=0.1)\n",
    "pipe = Pipeline([('scaler', scaler), ('svc', svc)])\n",
    "preds = ms.cross_val_predict(pipe, f6, labels)\n",
    "print(metrics.classification_report(labels, preds))"
   ]
  },
  {
   "cell_type": "markdown",
   "metadata": {},
   "source": [
    "Based on the tests above, we determined that using f3 gives the best accuracy and positive recall. This tuned model of LinearSVC gives us accurate results with high positive recall, but is slightly worse compared to our other models."
   ]
  },
  {
   "cell_type": "markdown",
   "metadata": {},
   "source": [
    "### SGDClassifier"
   ]
  },
  {
   "cell_type": "markdown",
   "metadata": {},
   "source": [
    "[SGDClassifier](https://scikit-learn.org/stable/modules/generated/sklearn.linear_model.SGDClassifier.html) is a class that can train multiple types of classifiers with a Stochastic Gradient Descent, meaning it finds some vector that when applied to the model's parameters, will make the model move towards a lower cost/margin. SGDClassifier by default, uses the 'hinge' loss function, which the documentation says creates a linear SVM.\n",
    "\n",
    "Luckily, SGDClassifier happened to also support the 'class_weight' parameter, allowing it to mitigate the class imbalance when training."
   ]
  },
  {
   "cell_type": "markdown",
   "metadata": {},
   "source": [
    "#### Initial Tests"
   ]
  },
  {
   "cell_type": "markdown",
   "metadata": {},
   "source": [
    "A basic setup with no tuning besides the class weights yielded extremely good results, competing with our top models. As aligned with our goals, this model had extremely high accuracy and positive recall, but sacrifices positive precision. Negative precision and recall are still very high."
   ]
  },
  {
   "cell_type": "code",
   "execution_count": 70,
   "metadata": {},
   "outputs": [
    {
     "name": "stdout",
     "output_type": "stream",
     "text": [
      "              precision    recall  f1-score   support\n",
      "\n",
      "         0.0       0.99      0.88      0.93    946356\n",
      "         1.0       0.36      0.89      0.52     73310\n",
      "\n",
      "    accuracy                           0.88   1019666\n",
      "   macro avg       0.68      0.89      0.72   1019666\n",
      "weighted avg       0.95      0.88      0.90   1019666\n",
      "\n"
     ]
    }
   ],
   "source": [
    "scaler = StandardScaler() # requires scaled data\n",
    "sgd = SGDClassifier(class_weight={0:1, 1:8})\n",
    "pl = Pipeline(steps=[('scaler', scaler), ('sgd', sgd)])\n",
    "preds = ms.cross_val_predict(pl, f1, labels, n_jobs=5)\n",
    "print(metrics.classification_report(labels, preds))"
   ]
  },
  {
   "cell_type": "markdown",
   "metadata": {},
   "source": [
    "We also tried a version using a PCA to see if it would yield better results, but it performed identically, so we didn't use one in further tests."
   ]
  },
  {
   "cell_type": "code",
   "execution_count": 71,
   "metadata": {},
   "outputs": [
    {
     "name": "stdout",
     "output_type": "stream",
     "text": [
      "              precision    recall  f1-score   support\n",
      "\n",
      "         0.0       0.99      0.88      0.93    946356\n",
      "         1.0       0.36      0.89      0.52     73310\n",
      "\n",
      "    accuracy                           0.88   1019666\n",
      "   macro avg       0.68      0.88      0.72   1019666\n",
      "weighted avg       0.95      0.88      0.90   1019666\n",
      "\n"
     ]
    }
   ],
   "source": [
    "scaler = StandardScaler()\n",
    "pca = PCA()\n",
    "sgd = SGDClassifier(class_weight={0:1, 1:8})\n",
    "pl = Pipeline(steps=[('scaler', scaler), ('pca', pca), ('sgd', sgd)])\n",
    "preds = ms.cross_val_predict(pl, f1, labels, n_jobs=5)\n",
    "print(metrics.classification_report(labels, preds))"
   ]
  },
  {
   "cell_type": "markdown",
   "metadata": {},
   "source": [
    "Here, we test some of the cut down feature sets to see if there is any improvement."
   ]
  },
  {
   "cell_type": "code",
   "execution_count": 72,
   "metadata": {},
   "outputs": [
    {
     "name": "stdout",
     "output_type": "stream",
     "text": [
      "              precision    recall  f1-score   support\n",
      "\n",
      "         0.0       0.99      0.88      0.93    946356\n",
      "         1.0       0.37      0.90      0.52     73310\n",
      "\n",
      "    accuracy                           0.88   1019666\n",
      "   macro avg       0.68      0.89      0.73   1019666\n",
      "weighted avg       0.95      0.88      0.90   1019666\n",
      "\n"
     ]
    }
   ],
   "source": [
    "scaler = StandardScaler()\n",
    "sgd = SGDClassifier(class_weight={0:1, 1:8})\n",
    "pl = Pipeline(steps=[('scaler', scaler), ('sgd', sgd)])\n",
    "preds = ms.cross_val_predict(pl, f2, labels, n_jobs=5)\n",
    "print(metrics.classification_report(labels, preds))"
   ]
  },
  {
   "cell_type": "code",
   "execution_count": 73,
   "metadata": {},
   "outputs": [
    {
     "name": "stdout",
     "output_type": "stream",
     "text": [
      "              precision    recall  f1-score   support\n",
      "\n",
      "         0.0       0.99      0.88      0.93    946356\n",
      "         1.0       0.37      0.90      0.52     73310\n",
      "\n",
      "    accuracy                           0.88   1019666\n",
      "   macro avg       0.68      0.89      0.73   1019666\n",
      "weighted avg       0.95      0.88      0.90   1019666\n",
      "\n"
     ]
    }
   ],
   "source": [
    "scaler = StandardScaler()\n",
    "sgd = SGDClassifier(class_weight={0:1, 1:8})\n",
    "pl = Pipeline(steps=[('scaler', scaler), ('sgd', sgd)])\n",
    "preds = ms.cross_val_predict(pl, f3, labels, n_jobs=5)\n",
    "print(metrics.classification_report(labels, preds))"
   ]
  },
  {
   "cell_type": "code",
   "execution_count": 64,
   "metadata": {},
   "outputs": [
    {
     "name": "stdout",
     "output_type": "stream",
     "text": [
      "              precision    recall  f1-score   support\n",
      "\n",
      "         0.0       0.99      0.88      0.93    946356\n",
      "         1.0       0.37      0.90      0.53     73310\n",
      "\n",
      "    accuracy                           0.88   1019666\n",
      "   macro avg       0.68      0.89      0.73   1019666\n",
      "weighted avg       0.95      0.88      0.91   1019666\n",
      "\n"
     ]
    }
   ],
   "source": [
    "scaler = StandardScaler()\n",
    "sgd = SGDClassifier(class_weight={0:1, 1:8})\n",
    "pl = Pipeline(steps=[('scaler', scaler), ('sgd', sgd)])\n",
    "preds = ms.cross_val_predict(pl, f4, labels, n_jobs=5)\n",
    "print(metrics.classification_report(labels, preds))"
   ]
  },
  {
   "cell_type": "code",
   "execution_count": 65,
   "metadata": {},
   "outputs": [
    {
     "name": "stdout",
     "output_type": "stream",
     "text": [
      "              precision    recall  f1-score   support\n",
      "\n",
      "         0.0       0.99      0.88      0.93    946356\n",
      "         1.0       0.36      0.91      0.52     73310\n",
      "\n",
      "    accuracy                           0.88   1019666\n",
      "   macro avg       0.68      0.89      0.73   1019666\n",
      "weighted avg       0.95      0.88      0.90   1019666\n",
      "\n"
     ]
    }
   ],
   "source": [
    "scaler = StandardScaler()\n",
    "sgd = SGDClassifier(class_weight={0:1, 1:8})\n",
    "pl = Pipeline(steps=[('scaler', scaler), ('sgd', sgd)])\n",
    "preds = ms.cross_val_predict(pl, f5, labels, n_jobs=5)\n",
    "print(metrics.classification_report(labels, preds))"
   ]
  },
  {
   "cell_type": "code",
   "execution_count": 66,
   "metadata": {},
   "outputs": [
    {
     "name": "stdout",
     "output_type": "stream",
     "text": [
      "              precision    recall  f1-score   support\n",
      "\n",
      "         0.0       0.99      0.87      0.93    946356\n",
      "         1.0       0.36      0.91      0.51     73310\n",
      "\n",
      "    accuracy                           0.88   1019666\n",
      "   macro avg       0.67      0.89      0.72   1019666\n",
      "weighted avg       0.95      0.88      0.90   1019666\n",
      "\n"
     ]
    }
   ],
   "source": [
    "scaler = StandardScaler()\n",
    "sgd = SGDClassifier(class_weight={0:1, 1:8})\n",
    "pl = Pipeline(steps=[('scaler', scaler), ('sgd', sgd)])\n",
    "preds = ms.cross_val_predict(pl, f6, labels, n_jobs=5)\n",
    "print(metrics.classification_report(labels, preds))"
   ]
  },
  {
   "cell_type": "markdown",
   "metadata": {},
   "source": [
    "These cut down feature sets had very similar results, but there was consistently a slight increase in positive recall after using f2 and above, so we decided to use that moving forward."
   ]
  },
  {
   "cell_type": "markdown",
   "metadata": {},
   "source": [
    "#### Tuning"
   ]
  },
  {
   "cell_type": "markdown",
   "metadata": {},
   "source": [
    "Then, we went on to hyperparameter tuning. We tried several different loss functions, where 'hinge' and 'squared_hinge' gives a linear SVM, and 'log_loss' and 'modified_huber' give us a non-linear regression SVM that classifies with a probability. We also adjusted the learning rate of the gradient descent and class weights."
   ]
  },
  {
   "cell_type": "code",
   "execution_count": 74,
   "metadata": {},
   "outputs": [
    {
     "name": "stdout",
     "output_type": "stream",
     "text": [
      "              precision    recall  f1-score   support\n",
      "\n",
      "         0.0       0.99      0.89      0.94    946356\n",
      "         1.0       0.38      0.86      0.53     73310\n",
      "\n",
      "    accuracy                           0.89   1019666\n",
      "   macro avg       0.69      0.88      0.73   1019666\n",
      "weighted avg       0.94      0.89      0.91   1019666\n",
      "\n"
     ]
    }
   ],
   "source": [
    "scaler = StandardScaler()\n",
    "sgd = SGDClassifier(class_weight={0:1, 1:8})\n",
    "pl = Pipeline(steps=[('scaler', scaler), ('sgd', sgd)])\n",
    "param_grid = {\n",
    "    'sgd__loss': ['hinge', 'log_loss', 'modified_huber', 'squared_hinge'],\n",
    "    'sgd__alpha': list(np.arange(0.0001, 0.0012, 0.0001)),\n",
    "    'sgd__class_weight': [{0:1, 1:8}, 'balanced']\n",
    "}\n",
    "gs = ms.GridSearchCV(pl, param_grid, n_jobs=11)\n",
    "preds = ms.cross_val_predict(gs, f2, labels, n_jobs=5)\n",
    "print(metrics.classification_report(labels, preds))"
   ]
  },
  {
   "cell_type": "code",
   "execution_count": 75,
   "metadata": {},
   "outputs": [
    {
     "name": "stdout",
     "output_type": "stream",
     "text": [
      "Best parameters: {'sgd__alpha': 0.0002, 'sgd__class_weight': {0: 1, 1: 8}, 'sgd__loss': 'squared_hinge'}\n",
      "              precision    recall  f1-score   support\n",
      "\n",
      "         0.0       0.99      0.90      0.94    946356\n",
      "         1.0       0.41      0.89      0.57     73310\n",
      "\n",
      "    accuracy                           0.90   1019666\n",
      "   macro avg       0.70      0.90      0.76   1019666\n",
      "weighted avg       0.95      0.90      0.92   1019666\n",
      "\n"
     ]
    }
   ],
   "source": [
    "scaler = StandardScaler()\n",
    "sgd = SGDClassifier(class_weight={0:1, 1:8})\n",
    "pl = Pipeline(steps=[('scaler', scaler), ('sgd', sgd)])\n",
    "param_grid = {\n",
    "    'sgd__loss': ['hinge', 'log_loss', 'modified_huber', 'squared_hinge'],\n",
    "    'sgd__alpha': list(np.arange(0.0001, 0.0012, 0.0001)),\n",
    "    'sgd__class_weight': [{0:1, 1:8}, 'balanced']\n",
    "}\n",
    "gs = ms.GridSearchCV(pl, param_grid, n_jobs=11)\n",
    "gs.fit(f2, labels)\n",
    "preds = gs.predict(f2)\n",
    "print(\"Best parameters:\", gs.best_params_)\n",
    "print(metrics.classification_report(labels, preds))"
   ]
  },
  {
   "cell_type": "markdown",
   "metadata": {},
   "source": [
    "These parameters gave us our final model, which was almost as good as our other top-performing models, with high accuracy and positive recall."
   ]
  },
  {
   "cell_type": "code",
   "execution_count": 77,
   "metadata": {},
   "outputs": [
    {
     "name": "stdout",
     "output_type": "stream",
     "text": [
      "              precision    recall  f1-score   support\n",
      "\n",
      "         0.0       0.99      0.89      0.94    946356\n",
      "         1.0       0.38      0.88      0.53     73310\n",
      "\n",
      "    accuracy                           0.89   1019666\n",
      "   macro avg       0.68      0.88      0.73   1019666\n",
      "weighted avg       0.95      0.89      0.91   1019666\n",
      "\n"
     ]
    }
   ],
   "source": [
    "scaler = StandardScaler()\n",
    "sgd = SGDClassifier(class_weight={0:1, 1:8}, alpha=0.0002, loss='squared_hinge')\n",
    "pl = Pipeline(steps=[('scaler', scaler), ('sgd', sgd)])\n",
    "preds = ms.cross_val_predict(pl, f2, labels)\n",
    "print(metrics.classification_report(labels, preds))"
   ]
  },
  {
   "cell_type": "markdown",
   "metadata": {},
   "source": [
    "## Naive Bayes\n",
    "***"
   ]
  },
  {
   "cell_type": "markdown",
   "metadata": {},
   "source": [
    "This code tests Naive Bayes on all features of the dataset. We use a 10-fold cross-validation loop. The accuracy is 89.15% approximately. "
   ]
  },
  {
   "cell_type": "code",
   "execution_count": 16,
   "metadata": {},
   "outputs": [
    {
     "name": "stdout",
     "output_type": "stream",
     "text": [
      "Accuracy: 89.14969794596324\n"
     ]
    }
   ],
   "source": [
    "gnb = GaussianNB()\n",
    "scores = ms.cross_val_score(gnb, features, labels, cv=10, error_score ='raise')\n",
    "print(\"Accuracy:\", scores.mean()*100)"
   ]
  },
  {
   "cell_type": "markdown",
   "metadata": {},
   "source": [
    "This code tests Naive Bayes on all features of the dataset and uses cross_val_predict. We use a 10-fold cross-validation loop. We get the confusion matrix and classification report to analyze how well this performed. The precision and recall for the 0 class is quite high with 98% in precision and 90% in recall. The F-score is 94%. "
   ]
  },
  {
   "cell_type": "code",
   "execution_count": 17,
   "metadata": {},
   "outputs": [
    {
     "name": "stdout",
     "output_type": "stream",
     "text": [
      "[[853654  92702]\n",
      " [ 17935  55375]]\n",
      "              precision    recall  f1-score   support\n",
      "\n",
      "         0.0       0.98      0.90      0.94    946356\n",
      "         1.0       0.37      0.76      0.50     73310\n",
      "\n",
      "    accuracy                           0.89   1019666\n",
      "   macro avg       0.68      0.83      0.72   1019666\n",
      "weighted avg       0.94      0.89      0.91   1019666\n",
      "\n"
     ]
    }
   ],
   "source": [
    "gnb = GaussianNB()\n",
    "preds = ms.cross_val_predict(gnb, features, labels, cv=10)\n",
    "print(metrics.confusion_matrix(labels, preds))\n",
    "print(metrics.classification_report(labels, preds))"
   ]
  },
  {
   "cell_type": "markdown",
   "metadata": {},
   "source": [
    "This code tests Naive Bayes but drops ICU. This is because there is a high corelation between Intubed and ICU. This indicates they tell the same thing. We use a 10-fold cross-validation loop. The accuracy is 88.48% approximately. "
   ]
  },
  {
   "cell_type": "code",
   "execution_count": 18,
   "metadata": {},
   "outputs": [
    {
     "name": "stdout",
     "output_type": "stream",
     "text": [
      "Accuracy: 88.4846798598954\n"
     ]
    }
   ],
   "source": [
    "gnb = GaussianNB()\n",
    "scores = ms.cross_val_score(gnb, f2, labels, cv=10, error_score ='raise')\n",
    "print(\"Accuracy:\", scores.mean()*100)"
   ]
  },
  {
   "cell_type": "markdown",
   "metadata": {},
   "source": [
    "This code tests Naive Bayes when dropping ICU and uses cross_val_predict. We use a 10-fold cross-validation loop. We get the confusion matrix and classification report to analyze how well this performed. The precision and recall for the 0 class is quite high with 98% in precision and 89% in recall. The F-score is 93%. This did not perform as well."
   ]
  },
  {
   "cell_type": "code",
   "execution_count": 19,
   "metadata": {},
   "outputs": [
    {
     "name": "stdout",
     "output_type": "stream",
     "text": [
      "[[844134 102222]\n",
      " [ 15196  58114]]\n",
      "              precision    recall  f1-score   support\n",
      "\n",
      "         0.0       0.98      0.89      0.93    946356\n",
      "         1.0       0.36      0.79      0.50     73310\n",
      "\n",
      "    accuracy                           0.88   1019666\n",
      "   macro avg       0.67      0.84      0.72   1019666\n",
      "weighted avg       0.94      0.88      0.90   1019666\n",
      "\n"
     ]
    }
   ],
   "source": [
    "gnb = GaussianNB()\n",
    "preds = ms.cross_val_predict(gnb, f2, labels, cv=10)\n",
    "print(metrics.confusion_matrix(labels, preds))\n",
    "print(metrics.classification_report(labels, preds))"
   ]
  },
  {
   "cell_type": "markdown",
   "metadata": {},
   "source": [
    "This code tests Naive Bayes but drops Med_Unit after dropping ICU. This is because it is not useful in this study. We use a 10-fold cross-validation loop. The accuracy is 88.80% approximately. The accuracy is lower than not dropping any feature. "
   ]
  },
  {
   "cell_type": "code",
   "execution_count": 20,
   "metadata": {},
   "outputs": [
    {
     "name": "stdout",
     "output_type": "stream",
     "text": [
      "Accuracy: 88.80272430519463\n"
     ]
    }
   ],
   "source": [
    "gnb = GaussianNB()\n",
    "scores = ms.cross_val_score(gnb, f3, labels, cv=10, error_score ='raise')\n",
    "print(\"Accuracy:\", scores.mean()*100)"
   ]
  },
  {
   "cell_type": "markdown",
   "metadata": {},
   "source": [
    "This code tests Naive Bayes when dropping Med_Unit after ICU and uses cross_val_predict. We use a 10-fold cross-validation loop. We get the confusion matrix and classification report to analyze how well this performed. The precision and recall for the 0 class is 98% in precision and 89% in recall. The F-score is 94%."
   ]
  },
  {
   "cell_type": "code",
   "execution_count": 21,
   "metadata": {},
   "outputs": [
    {
     "name": "stdout",
     "output_type": "stream",
     "text": [
      "[[846965  99391]\n",
      " [ 14784  58526]]\n",
      "              precision    recall  f1-score   support\n",
      "\n",
      "         0.0       0.98      0.89      0.94    946356\n",
      "         1.0       0.37      0.80      0.51     73310\n",
      "\n",
      "    accuracy                           0.89   1019666\n",
      "   macro avg       0.68      0.85      0.72   1019666\n",
      "weighted avg       0.94      0.89      0.91   1019666\n",
      "\n"
     ]
    }
   ],
   "source": [
    "gnb = GaussianNB()\n",
    "preds = ms.cross_val_predict(gnb, f3, labels, cv=10)\n",
    "print(metrics.confusion_matrix(labels, preds))\n",
    "print(metrics.classification_report(labels, preds))"
   ]
  },
  {
   "cell_type": "markdown",
   "metadata": {},
   "source": [
    "This code tests Naive Bayes but drops Sex, Pregnant, Asthma and Tobacco after dropping ICU and Med_Unit. This is because it is not useful in this study. We use a 10-fold cross-validation loop. The accuracy is 89.39% approximately. The accuracy is higher."
   ]
  },
  {
   "cell_type": "code",
   "execution_count": 22,
   "metadata": {},
   "outputs": [
    {
     "name": "stdout",
     "output_type": "stream",
     "text": [
      "Accuracy: 89.38820682063093\n"
     ]
    }
   ],
   "source": [
    "scores = ms.cross_val_score(gnb, f4, labels, cv=10, error_score ='raise')\n",
    "print(\"Accuracy:\", scores.mean()*100)"
   ]
  },
  {
   "cell_type": "markdown",
   "metadata": {},
   "source": [
    "This code tests Naive Bayes when dropping the above features and uses cross_val_predict. We use a 10-fold cross-validation loop. We get the confusion matrix and classification report to analyze how well this performed. The precision and recall for the 0 class is 98% in precision and 91% in recall. The F-score is 94%. The precision for positive is not high and recall is not better."
   ]
  },
  {
   "cell_type": "code",
   "execution_count": 23,
   "metadata": {},
   "outputs": [
    {
     "name": "stdout",
     "output_type": "stream",
     "text": [
      "[[856520  89836]\n",
      " [ 18369  54941]]\n",
      "              precision    recall  f1-score   support\n",
      "\n",
      "         0.0       0.98      0.91      0.94    946356\n",
      "         1.0       0.38      0.75      0.50     73310\n",
      "\n",
      "    accuracy                           0.89   1019666\n",
      "   macro avg       0.68      0.83      0.72   1019666\n",
      "weighted avg       0.94      0.89      0.91   1019666\n",
      "\n"
     ]
    }
   ],
   "source": [
    "gnb = GaussianNB()\n",
    "preds = ms.cross_val_predict(gnb, f4, labels, cv=10)\n",
    "print(metrics.confusion_matrix(labels, preds))\n",
    "print(metrics.classification_report(labels, preds))"
   ]
  },
  {
   "cell_type": "markdown",
   "metadata": {},
   "source": [
    "This code tests Naive Bayes but drops Obesity, Cardiovascular, Other_Disease Imnsupr, and COPD. We use a 10-fold cross-validation loop. The accuracy is 91.02% approximately. The accuracy is even higher."
   ]
  },
  {
   "cell_type": "code",
   "execution_count": 24,
   "metadata": {},
   "outputs": [
    {
     "name": "stdout",
     "output_type": "stream",
     "text": [
      "Accuracy: 91.01560613444953\n"
     ]
    }
   ],
   "source": [
    "scores = ms.cross_val_score(gnb, f5, labels, cv=10, error_score ='raise')\n",
    "print(\"Accuracy:\", scores.mean()*100)"
   ]
  },
  {
   "cell_type": "markdown",
   "metadata": {},
   "source": [
    "This code tests Naive Bayes when dropping the above features and uses cross_val_predict. We use a 10-fold cross-validation loop. We get the confusion matrix and classification report to analyze how well this performed. The precision and recall for the 0 class is 98% in precision and 92% in recall. The F-score is 95%. The precision for positive is now 43% and recall is 81%. This is a good option."
   ]
  },
  {
   "cell_type": "code",
   "execution_count": 25,
   "metadata": {},
   "outputs": [
    {
     "name": "stdout",
     "output_type": "stream",
     "text": [
      "[[868940  77416]\n",
      " [ 14195  59115]]\n",
      "              precision    recall  f1-score   support\n",
      "\n",
      "         0.0       0.98      0.92      0.95    946356\n",
      "         1.0       0.43      0.81      0.56     73310\n",
      "\n",
      "    accuracy                           0.91   1019666\n",
      "   macro avg       0.71      0.86      0.76   1019666\n",
      "weighted avg       0.94      0.91      0.92   1019666\n",
      "\n"
     ]
    }
   ],
   "source": [
    "gnb = GaussianNB()\n",
    "preds = ms.cross_val_predict(gnb, f5, labels, cv=10)\n",
    "print(metrics.confusion_matrix(labels, preds))\n",
    "print(metrics.classification_report(labels, preds))"
   ]
  },
  {
   "cell_type": "markdown",
   "metadata": {},
   "source": [
    "This code tests Naive Bayes but drops Renal_Chronic. We use a 10-fold cross-validation loop. The accuracy is 91.30% approximately."
   ]
  },
  {
   "cell_type": "code",
   "execution_count": 26,
   "metadata": {},
   "outputs": [
    {
     "name": "stdout",
     "output_type": "stream",
     "text": [
      "Accuracy: 91.33443686892774\n"
     ]
    }
   ],
   "source": [
    "scores = ms.cross_val_score(gnb, f6, labels, cv=10, error_score ='raise')\n",
    "print(\"Accuracy:\", scores.mean()*100)"
   ]
  },
  {
   "cell_type": "markdown",
   "metadata": {},
   "source": [
    "This code tests Naive Bayes when dropping the above features and uses cross_val_predict. We use a 10-fold cross-validation loop. We get the confusion matrix and classification report to analyze how well this performed. The precision and recall for the 0 class is 99% in precision and 92% in recall. The F-score is 95%. The precision for positive is now 44% and recall is 82%."
   ]
  },
  {
   "cell_type": "code",
   "execution_count": 27,
   "metadata": {},
   "outputs": [
    {
     "name": "stdout",
     "output_type": "stream",
     "text": [
      "[[871348  75008]\n",
      " [ 13352  59958]]\n",
      "              precision    recall  f1-score   support\n",
      "\n",
      "         0.0       0.98      0.92      0.95    946356\n",
      "         1.0       0.44      0.82      0.58     73310\n",
      "\n",
      "    accuracy                           0.91   1019666\n",
      "   macro avg       0.71      0.87      0.76   1019666\n",
      "weighted avg       0.95      0.91      0.92   1019666\n",
      "\n"
     ]
    }
   ],
   "source": [
    "gnb = GaussianNB()\n",
    "preds = ms.cross_val_predict(gnb, f6, labels, cv=10)\n",
    "print(metrics.confusion_matrix(labels, preds))\n",
    "print(metrics.classification_report(labels, preds))"
   ]
  },
  {
   "cell_type": "markdown",
   "metadata": {},
   "source": [
    "This code tests Naive Bayes but drops Med_Unit alone. This is because it is not useful in this study. We use a 10-fold cross-validation loop. The accuracy is 89.39% approximately. The accuracy is higher than the 3 conducted so far."
   ]
  },
  {
   "cell_type": "code",
   "execution_count": 28,
   "metadata": {},
   "outputs": [
    {
     "name": "stdout",
     "output_type": "stream",
     "text": [
      "Accuracy: 89.38516667424979\n"
     ]
    }
   ],
   "source": [
    "gnb = GaussianNB()\n",
    "scores = ms.cross_val_score(gnb, f7, labels, cv=10, error_score ='raise')\n",
    "print(\"Accuracy:\", scores.mean()*100)"
   ]
  },
  {
   "cell_type": "markdown",
   "metadata": {},
   "source": [
    "This code tests Naive Bayes when dropping Med_Unit and uses cross_val_predict. We use a 10-fold cross-validation loop. We get the confusion matrix and classification report to analyze how well this performed. The precision and recall for the 0 class is quite high with 94% in precision and 90% in recall. This is equivalent to not dropping any features. The precision and recall for the 1 class is improving. The F-score is 94%."
   ]
  },
  {
   "cell_type": "code",
   "execution_count": 29,
   "metadata": {},
   "outputs": [
    {
     "name": "stdout",
     "output_type": "stream",
     "text": [
      "[[855991  90365]\n",
      " [ 17871  55439]]\n",
      "              precision    recall  f1-score   support\n",
      "\n",
      "         0.0       0.98      0.90      0.94    946356\n",
      "         1.0       0.38      0.76      0.51     73310\n",
      "\n",
      "    accuracy                           0.89   1019666\n",
      "   macro avg       0.68      0.83      0.72   1019666\n",
      "weighted avg       0.94      0.89      0.91   1019666\n",
      "\n"
     ]
    }
   ],
   "source": [
    "gnb = GaussianNB()\n",
    "preds = ms.cross_val_predict(gnb, f7, labels, cv=10)\n",
    "print(metrics.confusion_matrix(labels, preds))\n",
    "print(metrics.classification_report(labels, preds))"
   ]
  },
  {
   "cell_type": "markdown",
   "metadata": {},
   "source": [
    "This code tests Naive Bayes but drops Hospitalized alone. This is because there is a high correlation between Pneumonia and Hospitalized. We use a 10-fold cross-validation loop. The accuracy is 89.35% approximately. The accuracy is quite good for the study."
   ]
  },
  {
   "cell_type": "code",
   "execution_count": 30,
   "metadata": {},
   "outputs": [
    {
     "name": "stdout",
     "output_type": "stream",
     "text": [
      "Accuracy: 89.3502505412551\n"
     ]
    }
   ],
   "source": [
    "gnb = GaussianNB()\n",
    "scores = ms.cross_val_score(gnb, f8, labels, cv=10, error_score ='raise')\n",
    "print(\"Accuracy:\", scores.mean()*100)"
   ]
  },
  {
   "cell_type": "markdown",
   "metadata": {},
   "source": [
    "This code tests Naive Bayes when dropping Hospitalized and uses cross_val_predict. We use a 10-fold cross-validation loop. We get the confusion matrix and classification report to analyze how well this performed. The precision and recall for the 0 class is quite high with 97% in precision and 91% in recall. The 1 scores are significantly less than the previous. The F-score is 94%."
   ]
  },
  {
   "cell_type": "code",
   "execution_count": 31,
   "metadata": {},
   "outputs": [
    {
     "name": "stdout",
     "output_type": "stream",
     "text": [
      "[[863832  82524]\n",
      " [ 26068  47242]]\n",
      "              precision    recall  f1-score   support\n",
      "\n",
      "         0.0       0.97      0.91      0.94    946356\n",
      "         1.0       0.36      0.64      0.47     73310\n",
      "\n",
      "    accuracy                           0.89   1019666\n",
      "   macro avg       0.67      0.78      0.70   1019666\n",
      "weighted avg       0.93      0.89      0.91   1019666\n",
      "\n"
     ]
    }
   ],
   "source": [
    "gnb = GaussianNB()\n",
    "preds = ms.cross_val_predict(gnb, f8, labels, cv=10)\n",
    "print(metrics.confusion_matrix(labels, preds))\n",
    "print(metrics.classification_report(labels, preds))"
   ]
  },
  {
   "cell_type": "markdown",
   "metadata": {},
   "source": [
    "This code tests Naive Bayes but drops Hospitalized after Med_Unit. Dropping Med_Unit resulted in better accuracy and there is a high correlation between Pneumonia and Hospitalized. We use a 10-fold cross-validation loop. The accuracy is 89.44% approximately. The accuracy is quite good for the study."
   ]
  },
  {
   "cell_type": "code",
   "execution_count": 32,
   "metadata": {},
   "outputs": [
    {
     "name": "stdout",
     "output_type": "stream",
     "text": [
      "Accuracy: 89.43674941248098\n"
     ]
    }
   ],
   "source": [
    "gnb = GaussianNB()\n",
    "scores = ms.cross_val_score(gnb, f9, labels, cv=10, error_score ='raise')\n",
    "print(\"Accuracy:\", scores.mean()*100)"
   ]
  },
  {
   "cell_type": "markdown",
   "metadata": {},
   "source": [
    "This code tests Naive Bayes when dropping Hospitalized after Med_Unit and uses cross_val_predict. We use a 10-fold cross-validation loop. We get the confusion matrix and classification report to analyze how well this performed. The precision and recall for the 0 class is 97% in precision and 91% in recall. The F-score is 94%."
   ]
  },
  {
   "cell_type": "code",
   "execution_count": 33,
   "metadata": {},
   "outputs": [
    {
     "name": "stdout",
     "output_type": "stream",
     "text": [
      "[[864642  81714]\n",
      " [ 25996  47314]]\n",
      "              precision    recall  f1-score   support\n",
      "\n",
      "         0.0       0.97      0.91      0.94    946356\n",
      "         1.0       0.37      0.65      0.47     73310\n",
      "\n",
      "    accuracy                           0.89   1019666\n",
      "   macro avg       0.67      0.78      0.70   1019666\n",
      "weighted avg       0.93      0.89      0.91   1019666\n",
      "\n"
     ]
    }
   ],
   "source": [
    "gnb = GaussianNB()\n",
    "preds = ms.cross_val_predict(gnb, f9, labels, cv=10)\n",
    "print(metrics.confusion_matrix(labels, preds))\n",
    "print(metrics.classification_report(labels, preds))"
   ]
  },
  {
   "cell_type": "markdown",
   "metadata": {},
   "source": [
    "## Neural Net\n",
    "***"
   ]
  },
  {
   "cell_type": "markdown",
   "metadata": {},
   "source": [
    "Below we go through different tests with neural net in order to maximize accuracy and positive recall."
   ]
  },
  {
   "cell_type": "code",
   "execution_count": 18,
   "metadata": {},
   "outputs": [],
   "source": [
    "scaler = StandardScaler()\n",
    "nn = MLPClassifier()\n",
    "pipe = Pipeline([('scaler', scaler), ('nn', nn)])"
   ]
  },
  {
   "cell_type": "code",
   "execution_count": 19,
   "metadata": {},
   "outputs": [],
   "source": [
    "@ignore_warnings(category=ConvergenceWarning)\n",
    "def run_nn(hl_size, feats, labes):\n",
    "    \n",
    "    scaler = sk.preprocessing.StandardScaler()\n",
    "    nn = MLPClassifier()\n",
    "    pipe = Pipeline([('scaler', scaler), ('nn', nn)])\n",
    "    \n",
    "    param_grid = {\n",
    "        'nn__hidden_layer_sizes': [hl_size],\n",
    "        'nn__activation': ['logistic', 'relu', 'tanh']\n",
    "    }\n",
    "\n",
    "    grid_search = ms.GridSearchCV(pipe, param_grid, cv=5, n_jobs=5)  \n",
    "    predictions = ms.cross_val_predict(grid_search, feats, labes, cv=5)\n",
    "    \n",
    "    print(\"Accuracy:\", sk.metrics.accuracy_score(labes, predictions) * 100)\n",
    "    print(sk.metrics.classification_report(labes, predictions))\n",
    "    pass"
   ]
  },
  {
   "cell_type": "markdown",
   "metadata": {},
   "source": [
    "### Tuning Hidden Layer Sizes"
   ]
  },
  {
   "cell_type": "markdown",
   "metadata": {},
   "source": [
    "When neural net is run on the entire data set, it takes a large amount of time. In order to combat this, we began testing different hidden layer sizes with different subsets of the entire data to see the effects."
   ]
  },
  {
   "cell_type": "markdown",
   "metadata": {},
   "source": [
    "Testing NN with small subset and medium hidden layer size (default is 100)"
   ]
  },
  {
   "cell_type": "code",
   "execution_count": 20,
   "metadata": {},
   "outputs": [
    {
     "name": "stdout",
     "output_type": "stream",
     "text": [
      "Accuracy: 83.96000000000001\n",
      "              precision    recall  f1-score   support\n",
      "\n",
      "         0.0       0.91      0.86      0.89      3613\n",
      "         1.0       0.69      0.78      0.73      1387\n",
      "\n",
      "    accuracy                           0.84      5000\n",
      "   macro avg       0.80      0.82      0.81      5000\n",
      "weighted avg       0.85      0.84      0.84      5000\n",
      "\n"
     ]
    }
   ],
   "source": [
    "subset = 5000\n",
    "features_test = features[:subset]\n",
    "labels_test = labels[:subset]\n",
    "\n",
    "run_nn((50,), features_test, labels_test)"
   ]
  },
  {
   "cell_type": "markdown",
   "metadata": {},
   "source": [
    "Testing NN with medium subset and medium hidden layer size"
   ]
  },
  {
   "cell_type": "code",
   "execution_count": 21,
   "metadata": {},
   "outputs": [
    {
     "name": "stdout",
     "output_type": "stream",
     "text": [
      "Accuracy: 96.70400000000001\n",
      "              precision    recall  f1-score   support\n",
      "\n",
      "         0.0       0.93      0.99      0.95     17488\n",
      "         1.0       0.99      0.96      0.97     32512\n",
      "\n",
      "    accuracy                           0.97     50000\n",
      "   macro avg       0.96      0.97      0.96     50000\n",
      "weighted avg       0.97      0.97      0.97     50000\n",
      "\n"
     ]
    }
   ],
   "source": [
    "subset = 50000\n",
    "features_test = features[:subset]\n",
    "labels_test = labels[:subset]\n",
    "\n",
    "run_nn((50,), features_test, labels_test)"
   ]
  },
  {
   "cell_type": "markdown",
   "metadata": {},
   "source": [
    "Testing NN with small subset and default hidden layer size"
   ]
  },
  {
   "cell_type": "code",
   "execution_count": 22,
   "metadata": {},
   "outputs": [
    {
     "name": "stdout",
     "output_type": "stream",
     "text": [
      "Accuracy: 83.96000000000001\n",
      "              precision    recall  f1-score   support\n",
      "\n",
      "         0.0       0.91      0.86      0.89      3613\n",
      "         1.0       0.69      0.78      0.73      1387\n",
      "\n",
      "    accuracy                           0.84      5000\n",
      "   macro avg       0.80      0.82      0.81      5000\n",
      "weighted avg       0.85      0.84      0.84      5000\n",
      "\n"
     ]
    }
   ],
   "source": [
    "subset = 5000\n",
    "features_test = features[:subset]\n",
    "labels_test = labels[:subset]\n",
    "\n",
    "run_nn((100,), features_test, labels_test)"
   ]
  },
  {
   "cell_type": "markdown",
   "metadata": {},
   "source": [
    "Testing NN with medium subset and default hidden layer size"
   ]
  },
  {
   "cell_type": "code",
   "execution_count": 23,
   "metadata": {},
   "outputs": [
    {
     "name": "stdout",
     "output_type": "stream",
     "text": [
      "Accuracy: 96.56400000000001\n",
      "              precision    recall  f1-score   support\n",
      "\n",
      "         0.0       0.93      0.98      0.95     17488\n",
      "         1.0       0.99      0.96      0.97     32512\n",
      "\n",
      "    accuracy                           0.97     50000\n",
      "   macro avg       0.96      0.97      0.96     50000\n",
      "weighted avg       0.97      0.97      0.97     50000\n",
      "\n"
     ]
    }
   ],
   "source": [
    "subset = 50000\n",
    "features_test = features[:subset]\n",
    "labels_test = labels[:subset]\n",
    "\n",
    "run_nn((100,), features_test, labels_test)"
   ]
  },
  {
   "cell_type": "markdown",
   "metadata": {},
   "source": [
    "Testing NN with small subset and small hidden layer size "
   ]
  },
  {
   "cell_type": "code",
   "execution_count": 24,
   "metadata": {},
   "outputs": [
    {
     "name": "stdout",
     "output_type": "stream",
     "text": [
      "Accuracy: 84.16\n",
      "              precision    recall  f1-score   support\n",
      "\n",
      "         0.0       0.91      0.86      0.89      3613\n",
      "         1.0       0.69      0.78      0.73      1387\n",
      "\n",
      "    accuracy                           0.84      5000\n",
      "   macro avg       0.80      0.82      0.81      5000\n",
      "weighted avg       0.85      0.84      0.84      5000\n",
      "\n"
     ]
    }
   ],
   "source": [
    "subset = 5000\n",
    "features_test = features[:subset]\n",
    "labels_test = labels[:subset]\n",
    "\n",
    "run_nn((10,), features_test, labels_test)"
   ]
  },
  {
   "cell_type": "markdown",
   "metadata": {},
   "source": [
    "Testing NN with medium subset and small hidden layer size "
   ]
  },
  {
   "cell_type": "code",
   "execution_count": 25,
   "metadata": {},
   "outputs": [
    {
     "name": "stdout",
     "output_type": "stream",
     "text": [
      "Accuracy: 96.578\n",
      "              precision    recall  f1-score   support\n",
      "\n",
      "         0.0       0.93      0.98      0.95     17488\n",
      "         1.0       0.99      0.96      0.97     32512\n",
      "\n",
      "    accuracy                           0.97     50000\n",
      "   macro avg       0.96      0.97      0.96     50000\n",
      "weighted avg       0.97      0.97      0.97     50000\n",
      "\n"
     ]
    }
   ],
   "source": [
    "subset = 50000\n",
    "features_test = features[:subset]\n",
    "labels_test = labels[:subset]\n",
    "\n",
    "run_nn((10,), features_test, labels_test)"
   ]
  },
  {
   "cell_type": "markdown",
   "metadata": {},
   "source": [
    "Due to these tests, we can see that the larger hidden layer sizes perform the same as the smaller ones, but take a lot longer to run. Due to this, we decided to run the entire subset on even smaller hidden layer sizes to see which ones maximize accuracy and positive recall. "
   ]
  },
  {
   "cell_type": "code",
   "execution_count": 26,
   "metadata": {},
   "outputs": [
    {
     "name": "stdout",
     "output_type": "stream",
     "text": [
      "Accuracy: 75.18236363672027\n",
      "              precision    recall  f1-score   support\n",
      "\n",
      "         0.0       0.95      0.78      0.85    946356\n",
      "         1.0       0.13      0.45      0.21     73310\n",
      "\n",
      "    accuracy                           0.75   1019666\n",
      "   macro avg       0.54      0.61      0.53   1019666\n",
      "weighted avg       0.89      0.75      0.81   1019666\n",
      "\n"
     ]
    }
   ],
   "source": [
    "run_nn((10,), features, labels)"
   ]
  },
  {
   "cell_type": "code",
   "execution_count": 27,
   "metadata": {},
   "outputs": [
    {
     "name": "stdout",
     "output_type": "stream",
     "text": [
      "Accuracy: 84.95919251990358\n",
      "              precision    recall  f1-score   support\n",
      "\n",
      "         0.0       0.95      0.88      0.92    946356\n",
      "         1.0       0.23      0.46      0.30     73310\n",
      "\n",
      "    accuracy                           0.85   1019666\n",
      "   macro avg       0.59      0.67      0.61   1019666\n",
      "weighted avg       0.90      0.85      0.87   1019666\n",
      "\n"
     ]
    }
   ],
   "source": [
    "run_nn((5,), features, labels)"
   ]
  },
  {
   "cell_type": "code",
   "execution_count": 28,
   "metadata": {},
   "outputs": [
    {
     "name": "stdout",
     "output_type": "stream",
     "text": [
      "Accuracy: 92.56217231917118\n",
      "              precision    recall  f1-score   support\n",
      "\n",
      "         0.0       0.96      0.96      0.96    946356\n",
      "         1.0       0.48      0.51      0.50     73310\n",
      "\n",
      "    accuracy                           0.93   1019666\n",
      "   macro avg       0.72      0.73      0.73   1019666\n",
      "weighted avg       0.93      0.93      0.93   1019666\n",
      "\n"
     ]
    }
   ],
   "source": [
    "run_nn((1,), features, labels)"
   ]
  },
  {
   "cell_type": "markdown",
   "metadata": {},
   "source": [
    "### Final Tuning"
   ]
  },
  {
   "cell_type": "markdown",
   "metadata": {},
   "source": [
    "Due to these trials, we observed that having 1 hidden layer performs the same on the entire data set as 5 and 10. To further test a model with 1 hidden layer, below we run the model with different combinations of features that were explained above in hopes of increasing accuracy and positive recall. Additionally, below we determine the activation function that gives us the best accuracy (all of the tests above have been tested with all three activation fucntions)."
   ]
  },
  {
   "cell_type": "code",
   "execution_count": 24,
   "metadata": {},
   "outputs": [],
   "source": [
    "@ignore_warnings(category=ConvergenceWarning)\n",
    "def nn_best_params(features):    \n",
    "    scaler = sk.preprocessing.StandardScaler()\n",
    "    nn = MLPClassifier()\n",
    "    pipe = Pipeline([('scaler', scaler), ('nn', nn)])\n",
    "    \n",
    "    param_grid = {\n",
    "        'nn__hidden_layer_sizes': [(1,)],\n",
    "        'nn__activation': ['logistic', 'relu', 'tanh']\n",
    "    }\n",
    "\n",
    "    grid_search = sk.model_selection.GridSearchCV(pipe, param_grid, cv=5)  \n",
    "    grid_search.fit(features, labels)\n",
    "    print(\"Best Parameters:\", grid_search.best_params_)\n",
    "    pass"
   ]
  },
  {
   "cell_type": "code",
   "execution_count": 25,
   "metadata": {},
   "outputs": [
    {
     "name": "stdout",
     "output_type": "stream",
     "text": [
      "Best Parameters: {'nn__activation': 'tanh', 'nn__hidden_layer_sizes': (1,)}\n"
     ]
    }
   ],
   "source": [
    "nn_best_params(f1)"
   ]
  },
  {
   "cell_type": "code",
   "execution_count": 26,
   "metadata": {},
   "outputs": [
    {
     "name": "stdout",
     "output_type": "stream",
     "text": [
      "Best Parameters: {'nn__activation': 'relu', 'nn__hidden_layer_sizes': (1,)}\n"
     ]
    }
   ],
   "source": [
    "nn_best_params(f2)"
   ]
  },
  {
   "cell_type": "code",
   "execution_count": 27,
   "metadata": {},
   "outputs": [
    {
     "name": "stdout",
     "output_type": "stream",
     "text": [
      "Best Parameters: {'nn__activation': 'tanh', 'nn__hidden_layer_sizes': (1,)}\n"
     ]
    }
   ],
   "source": [
    "nn_best_params(f3)"
   ]
  },
  {
   "cell_type": "code",
   "execution_count": 28,
   "metadata": {},
   "outputs": [
    {
     "name": "stdout",
     "output_type": "stream",
     "text": [
      "Best Parameters: {'nn__activation': 'logistic', 'nn__hidden_layer_sizes': (1,)}\n"
     ]
    }
   ],
   "source": [
    "nn_best_params(f4)"
   ]
  },
  {
   "cell_type": "code",
   "execution_count": 29,
   "metadata": {},
   "outputs": [
    {
     "name": "stdout",
     "output_type": "stream",
     "text": [
      "Best Parameters: {'nn__activation': 'logistic', 'nn__hidden_layer_sizes': (1,)}\n"
     ]
    }
   ],
   "source": [
    "nn_best_params(f5)"
   ]
  },
  {
   "cell_type": "code",
   "execution_count": 30,
   "metadata": {},
   "outputs": [
    {
     "name": "stdout",
     "output_type": "stream",
     "text": [
      "Best Parameters: {'nn__activation': 'logistic', 'nn__hidden_layer_sizes': (1,)}\n"
     ]
    }
   ],
   "source": [
    "nn_best_params(f6)"
   ]
  },
  {
   "cell_type": "markdown",
   "metadata": {},
   "source": [
    "These parameters give us the results below here. We tested this tuning with multiple feature sets to see which one worked best."
   ]
  },
  {
   "cell_type": "code",
   "execution_count": 32,
   "metadata": {},
   "outputs": [],
   "source": [
    "@ignore_warnings(category=ConvergenceWarning)\n",
    "def nn_final(function, features, labels):    \n",
    "    scaler = StandardScaler()\n",
    "    nn = MLPClassifier(activation=function, hidden_layer_sizes=(1,))\n",
    "    pipe = Pipeline([('scaler', scaler), ('nn', nn)])\n",
    "    preds = ms.cross_val_predict(pipe, features, labels, n_jobs=5)\n",
    "    print(metrics.classification_report(labels, preds))\n",
    "    pass"
   ]
  },
  {
   "cell_type": "code",
   "execution_count": 33,
   "metadata": {},
   "outputs": [
    {
     "name": "stdout",
     "output_type": "stream",
     "text": [
      "              precision    recall  f1-score   support\n",
      "\n",
      "         0.0       0.96      0.96      0.96    946356\n",
      "         1.0       0.51      0.49      0.50     73310\n",
      "\n",
      "    accuracy                           0.93   1019666\n",
      "   macro avg       0.74      0.73      0.73   1019666\n",
      "weighted avg       0.93      0.93      0.93   1019666\n",
      "\n"
     ]
    }
   ],
   "source": [
    "nn_final('tanh', features, labels)"
   ]
  },
  {
   "cell_type": "code",
   "execution_count": 34,
   "metadata": {},
   "outputs": [
    {
     "name": "stdout",
     "output_type": "stream",
     "text": [
      "              precision    recall  f1-score   support\n",
      "\n",
      "         0.0       0.95      0.98      0.97    946356\n",
      "         1.0       0.57      0.35      0.43     73310\n",
      "\n",
      "    accuracy                           0.93   1019666\n",
      "   macro avg       0.76      0.66      0.70   1019666\n",
      "weighted avg       0.92      0.93      0.93   1019666\n",
      "\n"
     ]
    }
   ],
   "source": [
    "nn_final('relu', f2, labels)"
   ]
  },
  {
   "cell_type": "code",
   "execution_count": 35,
   "metadata": {},
   "outputs": [
    {
     "name": "stdout",
     "output_type": "stream",
     "text": [
      "              precision    recall  f1-score   support\n",
      "\n",
      "         0.0       0.96      0.97      0.97    946356\n",
      "         1.0       0.57      0.50      0.53     73310\n",
      "\n",
      "    accuracy                           0.94   1019666\n",
      "   macro avg       0.77      0.74      0.75   1019666\n",
      "weighted avg       0.93      0.94      0.94   1019666\n",
      "\n"
     ]
    }
   ],
   "source": [
    "nn_final('tanh', f3, labels)"
   ]
  },
  {
   "cell_type": "code",
   "execution_count": 36,
   "metadata": {},
   "outputs": [
    {
     "name": "stdout",
     "output_type": "stream",
     "text": [
      "              precision    recall  f1-score   support\n",
      "\n",
      "         0.0       0.96      0.97      0.97    946356\n",
      "         1.0       0.59      0.52      0.55     73310\n",
      "\n",
      "    accuracy                           0.94   1019666\n",
      "   macro avg       0.78      0.75      0.76   1019666\n",
      "weighted avg       0.94      0.94      0.94   1019666\n",
      "\n"
     ]
    }
   ],
   "source": [
    "nn_final('logistic', f4, labels)"
   ]
  },
  {
   "cell_type": "code",
   "execution_count": 37,
   "metadata": {},
   "outputs": [
    {
     "name": "stdout",
     "output_type": "stream",
     "text": [
      "              precision    recall  f1-score   support\n",
      "\n",
      "         0.0       0.96      0.97      0.97    946356\n",
      "         1.0       0.60      0.51      0.56     73310\n",
      "\n",
      "    accuracy                           0.94   1019666\n",
      "   macro avg       0.78      0.74      0.76   1019666\n",
      "weighted avg       0.94      0.94      0.94   1019666\n",
      "\n"
     ]
    }
   ],
   "source": [
    "nn_final('logistic', f5, labels)"
   ]
  },
  {
   "cell_type": "code",
   "execution_count": 38,
   "metadata": {},
   "outputs": [
    {
     "name": "stdout",
     "output_type": "stream",
     "text": [
      "              precision    recall  f1-score   support\n",
      "\n",
      "         0.0       0.96      0.97      0.97    946356\n",
      "         1.0       0.61      0.50      0.55     73310\n",
      "\n",
      "    accuracy                           0.94   1019666\n",
      "   macro avg       0.78      0.74      0.76   1019666\n",
      "weighted avg       0.94      0.94      0.94   1019666\n",
      "\n"
     ]
    }
   ],
   "source": [
    "nn_final('logistic', f6, labels)"
   ]
  },
  {
   "cell_type": "markdown",
   "metadata": {},
   "source": [
    "Based on the tests above, we determined that using f4, f5, and f6 give the best accuracy and positive recall. This tuned model of NN is a decent model that provides accurate results, but it lacks in positive recall when compared to our other top models."
   ]
  },
  {
   "cell_type": "markdown",
   "metadata": {},
   "source": [
    "## Final Model\n",
    "***"
   ]
  },
  {
   "cell_type": "markdown",
   "metadata": {},
   "source": [
    "Ultimately, our Decision Tree had the best results by a very slight margin. Our goal was to get high accuracy and positive recall in order to detect as many patients that were likely to die as possible."
   ]
  },
  {
   "cell_type": "code",
   "execution_count": 21,
   "metadata": {},
   "outputs": [
    {
     "name": "stdout",
     "output_type": "stream",
     "text": [
      "              precision    recall  f1-score   support\n",
      "\n",
      "         0.0       0.99      0.89      0.94    946356\n",
      "         1.0       0.39      0.92      0.55     73310\n",
      "\n",
      "    accuracy                           0.89   1019666\n",
      "   macro avg       0.69      0.91      0.74   1019666\n",
      "weighted avg       0.95      0.89      0.91   1019666\n",
      "\n"
     ]
    }
   ],
   "source": [
    "dt = tree.DecisionTreeClassifier(criterion='entropy', max_depth=10, max_features=8, class_weight={0:1, 1:9})\n",
    "preds = ms.cross_val_predict(dt, f3, labels, cv=10)\n",
    "print(metrics.classification_report(labels, preds))"
   ]
  },
  {
   "cell_type": "markdown",
   "metadata": {},
   "source": [
    "To double check our anomaly detection's effectiveness, we tried using it again to compare our final model's results vs the full dataset."
   ]
  },
  {
   "cell_type": "code",
   "execution_count": 22,
   "metadata": {},
   "outputs": [
    {
     "name": "stdout",
     "output_type": "stream",
     "text": [
      "1: inlier, -1: outlier | Totals:\n",
      " 1    968684\n",
      "-1     50982\n",
      "dtype: int64\n",
      "Full dataset:  (1019666, 21)\n",
      "Inliers only:  (968684, 21)\n",
      "              precision    recall  f1-score   support\n",
      "\n",
      "         0.0       0.99      0.90      0.95    910602\n",
      "         1.0       0.38      0.91      0.53     58082\n",
      "\n",
      "    accuracy                           0.90    968684\n",
      "   macro avg       0.69      0.91      0.74    968684\n",
      "weighted avg       0.96      0.90      0.92    968684\n",
      "\n"
     ]
    }
   ],
   "source": [
    "data_outliers = data.to_numpy()\n",
    "x = EllipticEnvelope(contamination = 0.05).fit(data_outliers)\n",
    "y_pred = pd.DataFrame(x.predict(data_outliers))\n",
    "print(\"1: inlier, -1: outlier | Totals:\")\n",
    "print(y_pred.value_counts())\n",
    "preds = pd.DataFrame(y_pred).replace(to_replace=[-1,1], value=[False, True]).values.ravel()\n",
    "inliers = data.loc[preds,:]\n",
    "\n",
    "print(\"Full dataset: \", data.shape)\n",
    "print(\"Inliers only: \", inliers.shape)\n",
    "\n",
    "in_feats = inliers.drop(['Died', 'Med_Unit', 'ICU'], axis=1) # same features as f3\n",
    "in_labels = inliers['Died'].values.ravel()\n",
    "\n",
    "dt = tree.DecisionTreeClassifier(criterion='entropy', max_depth=10, max_features=8, class_weight={0:1, 1:9})\n",
    "preds = ms.cross_val_predict(dt, in_feats, in_labels, cv=10)\n",
    "print(metrics.classification_report(in_labels, preds))"
   ]
  },
  {
   "cell_type": "markdown",
   "metadata": {},
   "source": [
    "This did not improve the performance of our model, solidifying our previous findings."
   ]
  }
 ],
 "metadata": {
  "kernelspec": {
   "display_name": "base",
   "language": "python",
   "name": "python3"
  },
  "language_info": {
   "codemirror_mode": {
    "name": "ipython",
    "version": 3
   },
   "file_extension": ".py",
   "mimetype": "text/x-python",
   "name": "python",
   "nbconvert_exporter": "python",
   "pygments_lexer": "ipython3",
   "version": "3.11.4"
  }
 },
 "nbformat": 4,
 "nbformat_minor": 2
}
